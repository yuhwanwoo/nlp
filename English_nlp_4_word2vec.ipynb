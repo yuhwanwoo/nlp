{
 "cells": [
  {
   "cell_type": "code",
   "execution_count": 176,
   "metadata": {},
   "outputs": [],
   "source": [
    "import re\n",
    "import pandas as pd\n",
    "import numpy as np\n",
    "import json\n",
    "import os\n",
    "\n",
    "DATA_IN_PATH='./data_in/'\n",
    "TRAIN_CLEAN_DATA='train_clean.csv'\n",
    "\n",
    "train_data=pd.read_csv(DATA_IN_PATH + TRAIN_CLEAN_DATA)\n",
    "\n",
    "reviews=list(train_data['review'])\n",
    "sentiments=list(train_data['sentiment'])\n",
    "\n",
    "sentences=[]\n",
    "for review in reviews:\n",
    "    sentences.append(review.split())"
   ]
  },
  {
   "cell_type": "code",
   "execution_count": 177,
   "metadata": {},
   "outputs": [],
   "source": [
    "import logging\n",
    "logging.basicConfig(format='%(asctime)s : %(levelname)s : %(message)s', level=logging.INFO)"
   ]
  },
  {
   "cell_type": "code",
   "execution_count": 178,
   "metadata": {},
   "outputs": [],
   "source": [
    "# 학습 시 필요한 하이퍼 파라미터\n",
    "\n",
    "# 워드 벡터 특징값 수\n",
    "num_features=300\n",
    "# 단어에 대한 최소 빈도 수\n",
    "min_word_count=40\n",
    "# 프로세스 개수\n",
    "num_workers=4\n",
    "# 컨텍스트 윈도우 크기\n",
    "context=10\n",
    "# 다운 샘플링 비율\n",
    "downsampling=1e-3"
   ]
  },
  {
   "cell_type": "code",
   "execution_count": 179,
   "metadata": {},
   "outputs": [
    {
     "name": "stderr",
     "output_type": "stream",
     "text": [
      "2020-12-14 20:32:51,093 : INFO : collecting all words and their counts\n",
      "2020-12-14 20:32:51,094 : INFO : PROGRESS: at sentence #0, processed 0 words, keeping 0 word types\n",
      "2020-12-14 20:32:51,267 : INFO : PROGRESS: at sentence #10000, processed 1205223 words, keeping 51374 word types\n"
     ]
    },
    {
     "name": "stdout",
     "output_type": "stream",
     "text": [
      "Training model...\n"
     ]
    },
    {
     "name": "stderr",
     "output_type": "stream",
     "text": [
      "2020-12-14 20:32:51,435 : INFO : PROGRESS: at sentence #20000, processed 2396605 words, keeping 67660 word types\n",
      "2020-12-14 20:32:51,522 : INFO : collected 74065 word types from a corpus of 2988089 raw words and 25000 sentences\n",
      "2020-12-14 20:32:51,523 : INFO : Loading a fresh vocabulary\n",
      "2020-12-14 20:32:51,561 : INFO : effective_min_count=40 retains 8160 unique words (11% of original 74065, drops 65905)\n",
      "2020-12-14 20:32:51,562 : INFO : effective_min_count=40 leaves 2627273 word corpus (87% of original 2988089, drops 360816)\n",
      "2020-12-14 20:32:51,582 : INFO : deleting the raw counts dictionary of 74065 items\n",
      "2020-12-14 20:32:51,584 : INFO : sample=0.001 downsamples 30 most-common words\n",
      "2020-12-14 20:32:51,584 : INFO : downsampling leaves estimated 2494384 word corpus (94.9% of prior 2627273)\n",
      "2020-12-14 20:32:51,601 : INFO : estimated required memory for 8160 words and 300 dimensions: 23664000 bytes\n",
      "2020-12-14 20:32:51,602 : INFO : resetting layer weights\n",
      "2020-12-14 20:32:52,866 : INFO : training model with 4 workers on 8160 vocabulary and 300 features, using sg=0 hs=0 sample=0.001 negative=5 window=10\n",
      "2020-12-14 20:32:53,879 : INFO : EPOCH 1 - PROGRESS: at 44.11% examples, 1096678 words/s, in_qsize 7, out_qsize 0\n",
      "2020-12-14 20:32:54,880 : INFO : EPOCH 1 - PROGRESS: at 93.42% examples, 1160995 words/s, in_qsize 7, out_qsize 0\n",
      "2020-12-14 20:32:55,000 : INFO : worker thread finished; awaiting finish of 3 more threads\n",
      "2020-12-14 20:32:55,004 : INFO : worker thread finished; awaiting finish of 2 more threads\n",
      "2020-12-14 20:32:55,006 : INFO : worker thread finished; awaiting finish of 1 more threads\n",
      "2020-12-14 20:32:55,007 : INFO : worker thread finished; awaiting finish of 0 more threads\n",
      "2020-12-14 20:32:55,008 : INFO : EPOCH - 1 : training on 2988089 raw words (2494533 effective words) took 2.1s, 1165985 effective words/s\n",
      "2020-12-14 20:32:56,013 : INFO : EPOCH 2 - PROGRESS: at 47.78% examples, 1197641 words/s, in_qsize 7, out_qsize 0\n",
      "2020-12-14 20:32:57,013 : INFO : EPOCH 2 - PROGRESS: at 95.78% examples, 1195032 words/s, in_qsize 8, out_qsize 0\n",
      "2020-12-14 20:32:57,082 : INFO : worker thread finished; awaiting finish of 3 more threads\n",
      "2020-12-14 20:32:57,083 : INFO : worker thread finished; awaiting finish of 2 more threads\n",
      "2020-12-14 20:32:57,089 : INFO : worker thread finished; awaiting finish of 1 more threads\n",
      "2020-12-14 20:32:57,096 : INFO : worker thread finished; awaiting finish of 0 more threads\n",
      "2020-12-14 20:32:57,097 : INFO : EPOCH - 2 : training on 2988089 raw words (2494139 effective words) took 2.1s, 1195866 effective words/s\n",
      "2020-12-14 20:32:58,111 : INFO : EPOCH 3 - PROGRESS: at 47.12% examples, 1170375 words/s, in_qsize 7, out_qsize 0\n",
      "2020-12-14 20:32:59,123 : INFO : EPOCH 3 - PROGRESS: at 93.84% examples, 1158135 words/s, in_qsize 7, out_qsize 0\n",
      "2020-12-14 20:32:59,227 : INFO : worker thread finished; awaiting finish of 3 more threads\n",
      "2020-12-14 20:32:59,228 : INFO : worker thread finished; awaiting finish of 2 more threads\n",
      "2020-12-14 20:32:59,236 : INFO : worker thread finished; awaiting finish of 1 more threads\n",
      "2020-12-14 20:32:59,243 : INFO : worker thread finished; awaiting finish of 0 more threads\n",
      "2020-12-14 20:32:59,244 : INFO : EPOCH - 3 : training on 2988089 raw words (2494950 effective words) took 2.1s, 1163591 effective words/s\n",
      "2020-12-14 20:33:00,258 : INFO : EPOCH 4 - PROGRESS: at 46.47% examples, 1153469 words/s, in_qsize 8, out_qsize 0\n",
      "2020-12-14 20:33:01,267 : INFO : EPOCH 4 - PROGRESS: at 96.42% examples, 1192523 words/s, in_qsize 7, out_qsize 0\n",
      "2020-12-14 20:33:01,323 : INFO : worker thread finished; awaiting finish of 3 more threads\n",
      "2020-12-14 20:33:01,325 : INFO : worker thread finished; awaiting finish of 2 more threads\n",
      "2020-12-14 20:33:01,333 : INFO : worker thread finished; awaiting finish of 1 more threads\n",
      "2020-12-14 20:33:01,338 : INFO : worker thread finished; awaiting finish of 0 more threads\n",
      "2020-12-14 20:33:01,338 : INFO : EPOCH - 4 : training on 2988089 raw words (2494483 effective words) took 2.1s, 1192594 effective words/s\n",
      "2020-12-14 20:33:02,356 : INFO : EPOCH 5 - PROGRESS: at 43.72% examples, 1083079 words/s, in_qsize 7, out_qsize 0\n",
      "2020-12-14 20:33:03,366 : INFO : EPOCH 5 - PROGRESS: at 88.21% examples, 1092029 words/s, in_qsize 7, out_qsize 0\n",
      "2020-12-14 20:33:03,609 : INFO : worker thread finished; awaiting finish of 3 more threads\n",
      "2020-12-14 20:33:03,614 : INFO : worker thread finished; awaiting finish of 2 more threads\n",
      "2020-12-14 20:33:03,617 : INFO : worker thread finished; awaiting finish of 1 more threads\n",
      "2020-12-14 20:33:03,628 : INFO : worker thread finished; awaiting finish of 0 more threads\n",
      "2020-12-14 20:33:03,628 : INFO : EPOCH - 5 : training on 2988089 raw words (2494775 effective words) took 2.3s, 1090704 effective words/s\n",
      "2020-12-14 20:33:03,629 : INFO : training on a 14940445 raw words (12472880 effective words) took 10.8s, 1158954 effective words/s\n"
     ]
    }
   ],
   "source": [
    "from gensim.models import word2vec\n",
    "print(\"Training model...\")\n",
    "model=word2vec.Word2Vec(sentences,\n",
    "                       workers=num_workers,\n",
    "                       size=num_features,\n",
    "                       min_count=min_word_count,\n",
    "                       window=context,\n",
    "                       sample=downsampling)"
   ]
  },
  {
   "cell_type": "code",
   "execution_count": 180,
   "metadata": {},
   "outputs": [
    {
     "name": "stderr",
     "output_type": "stream",
     "text": [
      "2020-12-14 20:33:10,220 : INFO : saving Word2Vec object under 300features_40minwords_10context, separately None\n",
      "2020-12-14 20:33:10,221 : INFO : not storing attribute vectors_norm\n",
      "2020-12-14 20:33:10,222 : INFO : not storing attribute cum_table\n",
      "2020-12-14 20:33:10,366 : INFO : saved 300features_40minwords_10context\n"
     ]
    }
   ],
   "source": [
    "# 모델의 하이퍼파라미터를 설정한 내용을 모델 이름에 담는다면 나중에 참고하기 좋음\n",
    "# 모델을 저장하면 Word2Vec.load()로 모델을 다시 사용 가능\n",
    "model_name=\"300features_40minwords_10context\"\n",
    "model.save(model_name)"
   ]
  },
  {
   "cell_type": "code",
   "execution_count": 181,
   "metadata": {},
   "outputs": [
    {
     "name": "stdout",
     "output_type": "stream",
     "text": [
      "Word2Vec(vocab=8160, size=300, alpha=0.025)\n"
     ]
    }
   ],
   "source": [
    "print(model)"
   ]
  },
  {
   "cell_type": "code",
   "execution_count": 182,
   "metadata": {},
   "outputs": [],
   "source": [
    "def get_features(words, model, num_features):\n",
    "    # 출력 벡터 초기화\n",
    "    feature_vector=np.zeros((num_features), dtype=np.float32)\n",
    "    \n",
    "    num_words=0\n",
    "    # 어휘사전 준비\n",
    "    index2word_set=set(model.wv.index2word)\n",
    "    \n",
    "    for w in words:\n",
    "        if w in index2word_set:\n",
    "            num_words+=1\n",
    "            # 사전에 해당하는 단어에 대해 단어 벡터를 더함\n",
    "            feature_vector=np.add(feature_vector, model[w])\n",
    "    \n",
    "    # 문장의 단어 수만큼 나누어 단어 벡터의 평균값을 문장 벡터로 함\n",
    "    feature_vector=np.divide(feature_vector, num_words)\n",
    "    return feature_vector"
   ]
  },
  {
   "cell_type": "code",
   "execution_count": 183,
   "metadata": {},
   "outputs": [],
   "source": [
    "def get_dataset(reviews, model, num_features):\n",
    "    dataset=list()\n",
    "    \n",
    "    for s in reviews:\n",
    "        dataset.append(get_features(s, model, num_features))\n",
    "    \n",
    "    reviewFeatureVecs=np.stack(dataset)\n",
    "    \n",
    "    return reviewFeatureVecs"
   ]
  },
  {
   "cell_type": "code",
   "execution_count": 187,
   "metadata": {},
   "outputs": [
    {
     "name": "stderr",
     "output_type": "stream",
     "text": [
      "C:\\Users\\yuhwa\\anaconda3\\lib\\site-packages\\ipykernel_launcher.py:13: DeprecationWarning: Call to deprecated `__getitem__` (Method will be removed in 4.0.0, use self.wv.__getitem__() instead).\n",
      "  del sys.path[0]\n"
     ]
    }
   ],
   "source": [
    "train_data_vecs=get_dataset(sentences, model, num_features)"
   ]
  },
  {
   "cell_type": "code",
   "execution_count": 188,
   "metadata": {},
   "outputs": [],
   "source": [
    "from sklearn.model_selection import train_test_split\n",
    "\n",
    "X=train_data_vecs\n",
    "y=np.array(sentiments)\n",
    "\n",
    "RANDOM_SEED=42\n",
    "TEST_SPLIT=0.2\n",
    "\n",
    "X_train, X_eval, y_train, y_eval=train_test_split(X, y, test_size=TEST_SPLIT, random_state=RANDOM_SEED)"
   ]
  },
  {
   "cell_type": "code",
   "execution_count": 189,
   "metadata": {},
   "outputs": [
    {
     "name": "stderr",
     "output_type": "stream",
     "text": [
      "C:\\Users\\yuhwa\\anaconda3\\lib\\site-packages\\sklearn\\linear_model\\_logistic.py:764: ConvergenceWarning: lbfgs failed to converge (status=1):\n",
      "STOP: TOTAL NO. of ITERATIONS REACHED LIMIT.\n",
      "\n",
      "Increase the number of iterations (max_iter) or scale the data as shown in:\n",
      "    https://scikit-learn.org/stable/modules/preprocessing.html\n",
      "Please also refer to the documentation for alternative solver options:\n",
      "    https://scikit-learn.org/stable/modules/linear_model.html#logistic-regression\n",
      "  extra_warning_msg=_LOGISTIC_SOLVER_CONVERGENCE_MSG)\n"
     ]
    },
    {
     "data": {
      "text/plain": [
       "LogisticRegression(class_weight='balanced')"
      ]
     },
     "execution_count": 189,
     "metadata": {},
     "output_type": "execute_result"
    }
   ],
   "source": [
    "from sklearn.linear_model import LogisticRegression\n",
    "\n",
    "lgs=LogisticRegression(class_weight='balanced')\n",
    "lgs.fit(X_train, y_train)"
   ]
  },
  {
   "cell_type": "code",
   "execution_count": 190,
   "metadata": {},
   "outputs": [
    {
     "name": "stdout",
     "output_type": "stream",
     "text": [
      "Accuracy: 0.865000\n"
     ]
    }
   ],
   "source": [
    "# 검증 데이터로 성능 측정\n",
    "print(\"Accuracy: %f\" % lgs.score(X_eval, y_eval))"
   ]
  },
  {
   "cell_type": "code",
   "execution_count": 191,
   "metadata": {},
   "outputs": [],
   "source": [
    "TEST_CLEAN_DATA='test_clean.csv'\n",
    "\n",
    "test_data=pd.read_csv(DATA_IN_PATH+TEST_CLEAN_DATA)\n",
    "\n",
    "test_review=list(test_data['review'])"
   ]
  },
  {
   "cell_type": "code",
   "execution_count": 192,
   "metadata": {},
   "outputs": [],
   "source": [
    "test_sentences=[]\n",
    "for review in test_data:\n",
    "    test_sentences.append(review.split())"
   ]
  },
  {
   "cell_type": "code",
   "execution_count": 193,
   "metadata": {},
   "outputs": [
    {
     "name": "stderr",
     "output_type": "stream",
     "text": [
      "C:\\Users\\yuhwa\\anaconda3\\lib\\site-packages\\ipykernel_launcher.py:13: DeprecationWarning: Call to deprecated `__getitem__` (Method will be removed in 4.0.0, use self.wv.__getitem__() instead).\n",
      "  del sys.path[0]\n"
     ]
    }
   ],
   "source": [
    "test_data_vecs=get_dataset(test_sentences, model, num_features)"
   ]
  },
  {
   "cell_type": "code",
   "execution_count": 194,
   "metadata": {},
   "outputs": [
    {
     "ename": "ValueError",
     "evalue": "arrays must all be same length",
     "output_type": "error",
     "traceback": [
      "\u001b[1;31m---------------------------------------------------------------------------\u001b[0m",
      "\u001b[1;31mValueError\u001b[0m                                Traceback (most recent call last)",
      "\u001b[1;32m<ipython-input-194-6e266c825d4c>\u001b[0m in \u001b[0;36m<module>\u001b[1;34m\u001b[0m\n\u001b[0;32m      7\u001b[0m \u001b[1;33m\u001b[0m\u001b[0m\n\u001b[0;32m      8\u001b[0m \u001b[0mids\u001b[0m\u001b[1;33m=\u001b[0m\u001b[0mlist\u001b[0m\u001b[1;33m(\u001b[0m\u001b[0mtest_data\u001b[0m\u001b[1;33m[\u001b[0m\u001b[1;34m'id'\u001b[0m\u001b[1;33m]\u001b[0m\u001b[1;33m)\u001b[0m\u001b[1;33m\u001b[0m\u001b[1;33m\u001b[0m\u001b[0m\n\u001b[1;32m----> 9\u001b[1;33m \u001b[0manswer_dataset\u001b[0m\u001b[1;33m=\u001b[0m\u001b[0mpd\u001b[0m\u001b[1;33m.\u001b[0m\u001b[0mDataFrame\u001b[0m\u001b[1;33m(\u001b[0m\u001b[1;33m{\u001b[0m\u001b[1;34m'id'\u001b[0m\u001b[1;33m:\u001b[0m\u001b[0mids\u001b[0m\u001b[1;33m,\u001b[0m \u001b[1;34m'sentiment'\u001b[0m\u001b[1;33m:\u001b[0m\u001b[0mtest_predicted\u001b[0m\u001b[1;33m}\u001b[0m\u001b[1;33m)\u001b[0m\u001b[1;33m\u001b[0m\u001b[1;33m\u001b[0m\u001b[0m\n\u001b[0m\u001b[0;32m     10\u001b[0m \u001b[0manswer_dataset\u001b[0m\u001b[1;33m.\u001b[0m\u001b[0mto_csv\u001b[0m\u001b[1;33m(\u001b[0m\u001b[0mDATA_OUT_PATH\u001b[0m\u001b[1;33m+\u001b[0m\u001b[1;34m'lgs_answer.csv'\u001b[0m\u001b[1;33m,\u001b[0m\u001b[0mindex\u001b[0m\u001b[1;33m=\u001b[0m\u001b[1;32mFalse\u001b[0m\u001b[1;33m)\u001b[0m\u001b[1;33m\u001b[0m\u001b[1;33m\u001b[0m\u001b[0m\n",
      "\u001b[1;32m~\\anaconda3\\lib\\site-packages\\pandas\\core\\frame.py\u001b[0m in \u001b[0;36m__init__\u001b[1;34m(self, data, index, columns, dtype, copy)\u001b[0m\n\u001b[0;32m    433\u001b[0m             )\n\u001b[0;32m    434\u001b[0m         \u001b[1;32melif\u001b[0m \u001b[0misinstance\u001b[0m\u001b[1;33m(\u001b[0m\u001b[0mdata\u001b[0m\u001b[1;33m,\u001b[0m \u001b[0mdict\u001b[0m\u001b[1;33m)\u001b[0m\u001b[1;33m:\u001b[0m\u001b[1;33m\u001b[0m\u001b[1;33m\u001b[0m\u001b[0m\n\u001b[1;32m--> 435\u001b[1;33m             \u001b[0mmgr\u001b[0m \u001b[1;33m=\u001b[0m \u001b[0minit_dict\u001b[0m\u001b[1;33m(\u001b[0m\u001b[0mdata\u001b[0m\u001b[1;33m,\u001b[0m \u001b[0mindex\u001b[0m\u001b[1;33m,\u001b[0m \u001b[0mcolumns\u001b[0m\u001b[1;33m,\u001b[0m \u001b[0mdtype\u001b[0m\u001b[1;33m=\u001b[0m\u001b[0mdtype\u001b[0m\u001b[1;33m)\u001b[0m\u001b[1;33m\u001b[0m\u001b[1;33m\u001b[0m\u001b[0m\n\u001b[0m\u001b[0;32m    436\u001b[0m         \u001b[1;32melif\u001b[0m \u001b[0misinstance\u001b[0m\u001b[1;33m(\u001b[0m\u001b[0mdata\u001b[0m\u001b[1;33m,\u001b[0m \u001b[0mma\u001b[0m\u001b[1;33m.\u001b[0m\u001b[0mMaskedArray\u001b[0m\u001b[1;33m)\u001b[0m\u001b[1;33m:\u001b[0m\u001b[1;33m\u001b[0m\u001b[1;33m\u001b[0m\u001b[0m\n\u001b[0;32m    437\u001b[0m             \u001b[1;32mimport\u001b[0m \u001b[0mnumpy\u001b[0m\u001b[1;33m.\u001b[0m\u001b[0mma\u001b[0m\u001b[1;33m.\u001b[0m\u001b[0mmrecords\u001b[0m \u001b[1;32mas\u001b[0m \u001b[0mmrecords\u001b[0m\u001b[1;33m\u001b[0m\u001b[1;33m\u001b[0m\u001b[0m\n",
      "\u001b[1;32m~\\anaconda3\\lib\\site-packages\\pandas\\core\\internals\\construction.py\u001b[0m in \u001b[0;36minit_dict\u001b[1;34m(data, index, columns, dtype)\u001b[0m\n\u001b[0;32m    252\u001b[0m             \u001b[0marr\u001b[0m \u001b[1;32mif\u001b[0m \u001b[1;32mnot\u001b[0m \u001b[0mis_datetime64tz_dtype\u001b[0m\u001b[1;33m(\u001b[0m\u001b[0marr\u001b[0m\u001b[1;33m)\u001b[0m \u001b[1;32melse\u001b[0m \u001b[0marr\u001b[0m\u001b[1;33m.\u001b[0m\u001b[0mcopy\u001b[0m\u001b[1;33m(\u001b[0m\u001b[1;33m)\u001b[0m \u001b[1;32mfor\u001b[0m \u001b[0marr\u001b[0m \u001b[1;32min\u001b[0m \u001b[0marrays\u001b[0m\u001b[1;33m\u001b[0m\u001b[1;33m\u001b[0m\u001b[0m\n\u001b[0;32m    253\u001b[0m         ]\n\u001b[1;32m--> 254\u001b[1;33m     \u001b[1;32mreturn\u001b[0m \u001b[0marrays_to_mgr\u001b[0m\u001b[1;33m(\u001b[0m\u001b[0marrays\u001b[0m\u001b[1;33m,\u001b[0m \u001b[0mdata_names\u001b[0m\u001b[1;33m,\u001b[0m \u001b[0mindex\u001b[0m\u001b[1;33m,\u001b[0m \u001b[0mcolumns\u001b[0m\u001b[1;33m,\u001b[0m \u001b[0mdtype\u001b[0m\u001b[1;33m=\u001b[0m\u001b[0mdtype\u001b[0m\u001b[1;33m)\u001b[0m\u001b[1;33m\u001b[0m\u001b[1;33m\u001b[0m\u001b[0m\n\u001b[0m\u001b[0;32m    255\u001b[0m \u001b[1;33m\u001b[0m\u001b[0m\n\u001b[0;32m    256\u001b[0m \u001b[1;33m\u001b[0m\u001b[0m\n",
      "\u001b[1;32m~\\anaconda3\\lib\\site-packages\\pandas\\core\\internals\\construction.py\u001b[0m in \u001b[0;36marrays_to_mgr\u001b[1;34m(arrays, arr_names, index, columns, dtype)\u001b[0m\n\u001b[0;32m     62\u001b[0m     \u001b[1;31m# figure out the index, if necessary\u001b[0m\u001b[1;33m\u001b[0m\u001b[1;33m\u001b[0m\u001b[1;33m\u001b[0m\u001b[0m\n\u001b[0;32m     63\u001b[0m     \u001b[1;32mif\u001b[0m \u001b[0mindex\u001b[0m \u001b[1;32mis\u001b[0m \u001b[1;32mNone\u001b[0m\u001b[1;33m:\u001b[0m\u001b[1;33m\u001b[0m\u001b[1;33m\u001b[0m\u001b[0m\n\u001b[1;32m---> 64\u001b[1;33m         \u001b[0mindex\u001b[0m \u001b[1;33m=\u001b[0m \u001b[0mextract_index\u001b[0m\u001b[1;33m(\u001b[0m\u001b[0marrays\u001b[0m\u001b[1;33m)\u001b[0m\u001b[1;33m\u001b[0m\u001b[1;33m\u001b[0m\u001b[0m\n\u001b[0m\u001b[0;32m     65\u001b[0m     \u001b[1;32melse\u001b[0m\u001b[1;33m:\u001b[0m\u001b[1;33m\u001b[0m\u001b[1;33m\u001b[0m\u001b[0m\n\u001b[0;32m     66\u001b[0m         \u001b[0mindex\u001b[0m \u001b[1;33m=\u001b[0m \u001b[0mensure_index\u001b[0m\u001b[1;33m(\u001b[0m\u001b[0mindex\u001b[0m\u001b[1;33m)\u001b[0m\u001b[1;33m\u001b[0m\u001b[1;33m\u001b[0m\u001b[0m\n",
      "\u001b[1;32m~\\anaconda3\\lib\\site-packages\\pandas\\core\\internals\\construction.py\u001b[0m in \u001b[0;36mextract_index\u001b[1;34m(data)\u001b[0m\n\u001b[0;32m    363\u001b[0m             \u001b[0mlengths\u001b[0m \u001b[1;33m=\u001b[0m \u001b[0mlist\u001b[0m\u001b[1;33m(\u001b[0m\u001b[0mset\u001b[0m\u001b[1;33m(\u001b[0m\u001b[0mraw_lengths\u001b[0m\u001b[1;33m)\u001b[0m\u001b[1;33m)\u001b[0m\u001b[1;33m\u001b[0m\u001b[1;33m\u001b[0m\u001b[0m\n\u001b[0;32m    364\u001b[0m             \u001b[1;32mif\u001b[0m \u001b[0mlen\u001b[0m\u001b[1;33m(\u001b[0m\u001b[0mlengths\u001b[0m\u001b[1;33m)\u001b[0m \u001b[1;33m>\u001b[0m \u001b[1;36m1\u001b[0m\u001b[1;33m:\u001b[0m\u001b[1;33m\u001b[0m\u001b[1;33m\u001b[0m\u001b[0m\n\u001b[1;32m--> 365\u001b[1;33m                 \u001b[1;32mraise\u001b[0m \u001b[0mValueError\u001b[0m\u001b[1;33m(\u001b[0m\u001b[1;34m\"arrays must all be same length\"\u001b[0m\u001b[1;33m)\u001b[0m\u001b[1;33m\u001b[0m\u001b[1;33m\u001b[0m\u001b[0m\n\u001b[0m\u001b[0;32m    366\u001b[0m \u001b[1;33m\u001b[0m\u001b[0m\n\u001b[0;32m    367\u001b[0m             \u001b[1;32mif\u001b[0m \u001b[0mhave_dicts\u001b[0m\u001b[1;33m:\u001b[0m\u001b[1;33m\u001b[0m\u001b[1;33m\u001b[0m\u001b[0m\n",
      "\u001b[1;31mValueError\u001b[0m: arrays must all be same length"
     ]
    }
   ],
   "source": [
    "DATA_OUT_PATH='./data_out/'\n",
    "\n",
    "test_predicted=lgs.predict(test_data_vecs)\n",
    "\n",
    "if not os.path.exists(DATA_OUT_PATH):\n",
    "    os.makedirs(DATA_OUT_PATH)\n",
    "    \n",
    "ids=list(test_data['id'])\n",
    "answer_dataset=pd.DataFrame({'id':ids, 'sentiment':test_predicted})\n",
    "answer_dataset.to_csv(DATA_OUT_PATH+'lgs_answer.csv',index=False)"
   ]
  },
  {
   "cell_type": "code",
   "execution_count": 79,
   "metadata": {},
   "outputs": [],
   "source": [
    "answer_dataset.to_csv(DATA_OUT_PATH+'lgs_answer.csv',index=False)"
   ]
  },
  {
   "cell_type": "code",
   "execution_count": 195,
   "metadata": {},
   "outputs": [
    {
     "name": "stdout",
     "output_type": "stream",
     "text": [
      "[[-9.72986460e-01  6.31504834e-01 -3.57771724e-01 -2.81789601e-01\n",
      "  -1.21047187e+00 -1.55673996e-01 -9.60967839e-01  1.17620265e+00\n",
      "   4.61706102e-01  3.65030825e-01  5.66152573e-01 -3.85412216e-01\n",
      "   4.48002726e-01  8.75946641e-01 -5.48009157e-01 -8.99554133e-01\n",
      "  -4.81081232e-02  3.30140620e-01  7.95071125e-01  1.69979185e-02\n",
      "   1.64716673e+00  6.37997508e-01  1.42131448e-02 -1.53598130e-01\n",
      "   6.97971284e-01 -1.20773897e-01  3.51476014e-01 -4.56965476e-01\n",
      "  -9.45024371e-01 -6.73180640e-01  3.69526148e-01 -1.06277108e-01\n",
      "   1.23835906e-01  8.41993570e-01 -8.98249567e-01 -8.46701860e-01\n",
      "  -7.98762739e-01  8.82960916e-01  5.56514263e-02  6.63250566e-01\n",
      "  -4.59827751e-01 -5.96438348e-01 -7.60984242e-01 -7.30535686e-01\n",
      "   2.12584510e-02 -3.92530799e-01 -4.57641751e-01 -1.55915523e+00\n",
      "  -3.82994622e-01  9.00938094e-01 -8.54328632e-01  1.82578242e+00\n",
      "  -1.16373754e+00  1.24283887e-01  2.36625239e-01 -5.32458484e-01\n",
      "  -1.03909917e-01  8.09370577e-01  4.96192098e-01  3.40666920e-01\n",
      "  -2.38554049e-02  6.26834929e-01 -1.61332440e+00  1.50401384e-01\n",
      "   1.18053818e+00 -1.55655015e+00 -4.52393144e-01  1.06428158e+00\n",
      "  -1.90708295e-01 -3.19012880e-01  3.84461701e-01  1.02134812e+00\n",
      "  -7.45229900e-01  4.29292381e-01 -1.08172905e+00  3.04547846e-01\n",
      "  -5.47231555e-01 -1.85638547e+00 -3.25201184e-01  3.71561348e-01\n",
      "  -7.40811899e-02 -1.73942536e-01 -2.94252366e-01 -6.06280506e-01\n",
      "  -2.39307553e-01  3.99694800e-01 -1.85533631e+00 -1.49309456e-01\n",
      "  -3.11389327e-01  9.42345917e-01 -4.76855129e-01  2.67368257e-01\n",
      "   2.42393762e-02 -1.21523845e+00  3.15262794e-01 -5.49734294e-01\n",
      "   4.96869355e-01  9.80291963e-01  6.48559213e-01  4.30697948e-01\n",
      "  -3.14909279e-01 -2.56314248e-01  1.42674148e-01 -3.20346355e-01\n",
      "  -6.23464465e-01 -1.40390277e+00 -1.50850415e-01  5.57821810e-01\n",
      "   6.29331052e-01 -4.53674108e-01 -4.25409704e-01  6.84347630e-01\n",
      "   1.09860981e+00 -2.92298853e-01 -7.73441136e-01  6.49841428e-01\n",
      "  -1.22325981e+00  4.03292365e-02  1.10534288e-01  8.50637794e-01\n",
      "  -9.24438834e-01 -9.44999576e-01  2.31093302e-01  2.02552363e-01\n",
      "  -4.16546792e-01 -6.94540560e-01  8.31890285e-01 -7.25677088e-02\n",
      "   2.86337823e-01  1.18103083e-02  7.15206385e-01  8.83555710e-02\n",
      "  -1.24857329e-01 -9.99307394e-01 -3.61717850e-01 -4.37986672e-01\n",
      "  -6.97799861e-01 -9.22543108e-01  8.83280098e-01 -2.64664888e-01\n",
      "   1.71700805e-01 -5.18567741e-01  1.48369163e-01  2.22696632e-01\n",
      "   3.53496671e-01 -4.52980772e-02 -2.39487097e-01  1.54784834e+00\n",
      "  -5.33100307e-01  6.32728219e-01  4.55058128e-01 -2.18952611e-01\n",
      "   1.80926323e-01  1.01403750e-01  8.28561559e-03  9.15808901e-02\n",
      "   3.90323669e-01 -9.62371588e-01  1.06651950e+00 -3.69721770e-01\n",
      "   7.14484990e-01  8.27815831e-02 -2.82587171e-01 -1.03376806e+00\n",
      "   1.09036636e+00 -3.96295905e-01 -3.33243281e-01  1.11683059e+00\n",
      "  -3.93456668e-01  7.19294190e-01 -1.01126039e+00  7.48451650e-01\n",
      "   4.78577107e-01  5.20245016e-01 -2.14214295e-01 -1.18205130e+00\n",
      "   1.43718094e-01  4.62815613e-02 -9.25172806e-01  1.79775566e-01\n",
      "   2.09257111e-01 -9.02553618e-01 -3.37776355e-02 -4.72772598e-01\n",
      "  -2.35965624e-02 -3.49051774e-01  3.39622825e-01 -7.56276250e-02\n",
      "  -7.88910031e-01 -1.15656281e+00  1.19039440e+00 -6.16859734e-01\n",
      "  -7.53688633e-01 -9.38843250e-01  7.83786356e-01 -6.75261915e-01\n",
      "   6.77685916e-01  8.06029618e-01  7.23705143e-02 -1.40351534e+00\n",
      "   1.54349655e-01  1.19380665e+00  1.60042778e-01 -2.65791416e-01\n",
      "  -9.62822020e-01  6.31018579e-01 -3.97534460e-01 -6.97909355e-01\n",
      "  -2.62698025e-01  3.33137006e-01  8.96456540e-01  1.05208933e-01\n",
      "  -3.48198563e-02  1.96234792e-01  1.92655042e-01 -2.37692371e-01\n",
      "  -4.88797218e-01 -2.44390428e-01 -4.95333552e-01 -8.92805874e-01\n",
      "   8.13905180e-01  2.40470052e-01  3.01323682e-01  2.06687301e-01\n",
      "  -1.11653173e+00  5.80187477e-02  6.21916115e-01  1.57235652e-01\n",
      "   1.34543490e+00  1.40960371e+00  4.41396646e-02 -2.63822407e-01\n",
      "  -3.54794174e-01 -5.65945923e-01 -2.05881625e-01  2.38679379e-01\n",
      "   2.22228542e-01 -1.05829740e+00 -1.81345657e-01 -1.10301065e+00\n",
      "   8.28244630e-03  9.56508934e-01  1.44886541e+00 -1.63122869e+00\n",
      "   6.03309214e-01  7.41897076e-02 -1.07358265e+00 -2.95818038e-02\n",
      "   2.76946187e-01 -1.05351233e+00 -8.94784212e-01 -9.32113230e-02\n",
      "   9.94554043e-01  1.55852270e+00 -6.70953214e-01 -2.35371470e-01\n",
      "   4.20459270e-01  2.43087575e-01  9.24856246e-01 -2.85528935e-02\n",
      "   4.39611375e-02 -7.48953044e-01 -5.49039543e-01 -2.41029233e-01\n",
      "  -7.20596850e-01  4.59723361e-03  4.73305523e-01 -9.63779390e-02\n",
      "  -1.06658673e+00  8.98256958e-01 -5.85935749e-02  4.22819145e-02\n",
      "   8.98342788e-01 -1.43581837e-01 -2.35314146e-01 -6.89902067e-01\n",
      "   9.73149359e-01 -5.66112638e-01  2.16466695e-01 -7.43173122e-01\n",
      "   7.47224689e-01 -3.30139041e-01 -1.79849997e-01  8.78710032e-01\n",
      "  -2.76923418e-01  8.62218559e-01 -1.65174574e-01  9.84791219e-01\n",
      "   1.65824139e+00  1.23451161e+00 -1.70007503e+00  9.23474848e-01\n",
      "   9.24698561e-02  1.09731269e+00  1.43326481e-03 -5.59260249e-01\n",
      "   4.35450941e-01  1.32103872e+00 -1.45241963e-02  6.47485116e-03]\n",
      " [ 1.33123964e-01 -1.04139335e-01  9.53291208e-02 -1.49656996e-01\n",
      "  -7.13116527e-02 -1.57345653e-01 -1.17669046e-01  1.45750761e-01\n",
      "   4.84133884e-02  1.40144929e-01  9.58811268e-02 -1.62275419e-01\n",
      "   5.25664799e-02  1.15743600e-01  1.16640003e-03 -1.86638311e-02\n",
      "   9.91164744e-02  1.77852437e-01  1.13202080e-01  3.75210494e-02\n",
      "   5.86704090e-02  5.51277474e-02 -1.13834627e-01  1.45745680e-01\n",
      "  -3.78422961e-02 -2.12694183e-02  9.60783102e-03  1.07656084e-01\n",
      "   2.36124415e-02 -1.18474200e-01  7.35304430e-02  6.08308204e-02\n",
      "   3.87880765e-03 -1.76614039e-02  8.68002176e-02 -1.44749731e-01\n",
      "  -5.12384549e-02  6.93726838e-02  5.31076230e-02  2.78971884e-02\n",
      "  -5.07678022e-04 -1.06458940e-01  2.59947274e-02 -9.20969248e-03\n",
      "   1.74997151e-02 -1.50420725e-01  6.80902377e-02 -1.49514496e-01\n",
      "   5.67998849e-02 -3.57480696e-03 -1.02793664e-01  1.11570671e-01\n",
      "   1.53802678e-01  1.64377883e-01 -5.73338941e-02  1.13726184e-02\n",
      "   6.23153746e-02  1.53174847e-01 -1.82619870e-01 -8.27541202e-02\n",
      "   6.33467287e-02 -1.28133893e-01 -7.53626321e-03 -9.85484421e-02\n",
      "   1.55863672e-01 -7.31935212e-03  3.87858227e-02  6.36130348e-02\n",
      "  -4.73215505e-02 -5.74695766e-02  5.07307202e-02 -1.04820311e-01\n",
      "  -8.51634145e-02  1.39269233e-02 -1.26529709e-01 -8.20258707e-02\n",
      "  -1.87255800e-01 -1.74514860e-01 -1.79354146e-01  1.58539966e-01\n",
      "   9.46306810e-02  3.60508934e-02  4.45021987e-02 -1.43768013e-01\n",
      "  -1.22905433e-01  1.55983195e-02 -1.99102774e-01 -4.49757874e-02\n",
      "  -6.71619773e-02  2.20429838e-01  3.15734148e-02  6.23888038e-02\n",
      "  -4.43068668e-02 -1.43952161e-01  5.38308583e-02 -1.93341970e-02\n",
      "  -1.38253391e-01  2.07891073e-02  7.62979090e-02  2.38742530e-02\n",
      "  -1.50184169e-01 -1.40620247e-02  5.25911078e-02 -7.87255540e-03\n",
      "  -2.12522775e-01 -1.91693380e-01  1.18533544e-01  2.74675265e-02\n",
      "   7.03623891e-02 -1.28315389e-01 -1.68492779e-01  1.27623245e-01\n",
      "   3.54021229e-02 -4.45058867e-02 -2.23023728e-01  1.00448720e-01\n",
      "  -1.28246069e-01 -1.29682735e-01 -1.51030034e-01  1.08802430e-01\n",
      "  -9.11501629e-05  5.10690846e-02 -2.77327448e-02  1.52935192e-01\n",
      "  -1.41313687e-01  5.91300577e-02  2.37939537e-01 -4.31248061e-02\n",
      "   1.50508329e-01 -8.85983482e-02  1.35718226e-01 -1.00957835e-02\n",
      "   4.52383840e-03 -1.27377152e-01 -2.87449770e-02  1.10088319e-01\n",
      "   2.39338204e-02 -7.96251073e-02  7.54378214e-02 -8.58602524e-02\n",
      "  -3.29206586e-02 -6.21736422e-02  7.58590996e-02 -3.30046862e-02\n",
      "   5.46217300e-02 -3.92161794e-02  7.41798431e-02  6.35856092e-02\n",
      "   2.94796773e-03  2.16514602e-01  2.31538683e-01 -2.10709006e-01\n",
      "   2.75834724e-02  3.29817161e-02 -4.79346067e-02 -1.79221183e-02\n",
      "   3.58408205e-02 -1.13634691e-01 -1.94788761e-02  1.02252632e-01\n",
      "  -1.58823729e-02  1.53695485e-02  4.65520695e-02  1.50673967e-02\n",
      "   2.99678981e-01  2.50360407e-02 -2.03894898e-01 -1.93482444e-01\n",
      "   9.71891433e-02  3.69205698e-02 -2.29540840e-02 -7.33971689e-03\n",
      "   3.32696363e-02  4.85745110e-02  2.83451043e-02  8.34861398e-02\n",
      "   9.62955430e-02 -3.58739905e-02  1.50971442e-01 -2.46320888e-01\n",
      "   9.25741717e-02  2.36202180e-02 -9.63381305e-02  2.78683193e-02\n",
      "  -5.44909313e-02 -1.52371138e-01 -6.13230690e-02  2.86662355e-02\n",
      "  -4.33674753e-02 -8.77729133e-02  5.93768023e-02 -7.64581859e-02\n",
      "  -2.06397194e-02 -1.38252378e-01 -1.62471533e-02 -1.45695224e-01\n",
      "  -7.14801624e-02 -4.72316667e-02  6.89622238e-02 -1.42160505e-01\n",
      "   1.35809258e-01  1.75761446e-01 -4.03606519e-02  8.09098501e-03\n",
      "   4.10082601e-02 -3.07273585e-02  1.78888336e-01  4.54390831e-02\n",
      "   2.99500469e-02  1.88421935e-01 -1.62201419e-01 -1.08770415e-01\n",
      "  -4.25351448e-02 -3.46688218e-02 -1.46815404e-01 -1.28099844e-01\n",
      "  -1.80790555e-02  7.10439980e-02  1.75240740e-01 -7.26852491e-02\n",
      "  -2.19419926e-01 -7.03142062e-02 -1.48696691e-01  7.03058168e-02\n",
      "  -1.14747904e-01 -9.82092507e-03  3.75314616e-02  1.61897629e-01\n",
      "   2.32177246e-02  1.82588905e-01 -1.53932925e-02  1.43966144e-02\n",
      "  -1.50922220e-02  1.02750376e-01 -5.74816465e-02 -9.56161064e-04\n",
      "  -7.91831613e-02 -8.14491808e-02  8.00216570e-02 -6.54143840e-03\n",
      "   5.36167920e-02  6.95376843e-02  7.75640830e-02 -7.96007365e-02\n",
      "  -9.52196494e-02 -1.72996059e-01 -1.05118573e-01  5.89749450e-03\n",
      "  -7.63628036e-02 -6.34632781e-02 -1.89929411e-01  4.09602709e-02\n",
      "   8.35237429e-02  4.69380394e-02 -1.94283463e-02  1.06088057e-01\n",
      "   1.50527626e-01  1.51254937e-01 -3.61609012e-02  7.86119476e-02\n",
      "  -8.25652778e-02 -6.27124161e-02  1.50889844e-01 -5.05498499e-02\n",
      "  -4.08630036e-02 -8.27567428e-02 -2.58690029e-01 -8.48018453e-02\n",
      "  -7.71202473e-03 -2.71480437e-02  7.88841173e-02 -8.41403902e-02\n",
      "  -4.63587530e-02  7.94874728e-02 -7.81907048e-03  4.07163873e-02\n",
      "  -5.80490679e-02  4.68371958e-02 -5.92817590e-02 -1.19892403e-01\n",
      "  -1.44263124e-02  4.43420894e-02 -1.33008994e-02 -6.79629743e-02\n",
      "   8.70288257e-03 -6.29690811e-02 -3.88049036e-02  1.09016970e-01\n",
      "  -2.98940502e-02  2.47141808e-01 -1.93079785e-01  7.65276924e-02\n",
      "  -8.11243355e-02  5.88553697e-02  1.12739809e-01 -2.47239143e-01\n",
      "   8.22788849e-02  8.29737112e-02  9.69350561e-02  5.18559329e-02]]\n"
     ]
    }
   ],
   "source": [
    "print(test_data_vecs)"
   ]
  },
  {
   "cell_type": "code",
   "execution_count": 142,
   "metadata": {},
   "outputs": [
    {
     "name": "stdout",
     "output_type": "stream",
     "text": [
      "300\n"
     ]
    }
   ],
   "source": [
    "print(len(test_data_vecs[1]))"
   ]
  },
  {
   "cell_type": "code",
   "execution_count": null,
   "metadata": {},
   "outputs": [],
   "source": [
    "test_data_vecs[0]"
   ]
  }
 ],
 "metadata": {
  "kernelspec": {
   "display_name": "Python 3",
   "language": "python",
   "name": "python3"
  },
  "language_info": {
   "codemirror_mode": {
    "name": "ipython",
    "version": 3
   },
   "file_extension": ".py",
   "mimetype": "text/x-python",
   "name": "python",
   "nbconvert_exporter": "python",
   "pygments_lexer": "ipython3",
   "version": "3.7.7"
  }
 },
 "nbformat": 4,
 "nbformat_minor": 4
}
