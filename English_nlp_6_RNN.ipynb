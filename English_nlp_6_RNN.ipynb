{
 "cells": [
  {
   "cell_type": "code",
   "execution_count": 67,
   "metadata": {},
   "outputs": [],
   "source": [
    "import pandas as pd\n",
    "import numpy as np\n",
    "import json\n",
    "\n",
    "DATA_IN_PATH='./data_in/'\n",
    "DATA_OUT_PATH='./data_out/'\n",
    "\n",
    "INPUT_TRAIN_DATA_FILE_NAME='train_input.npy'\n",
    "LABEL_TRAIN_DATA_FILE_NAME='train_label.npy'\n",
    "DATA_CONFIGS_FILE_NAME='data_configs.json'\n",
    "\n",
    "input_data=np.load(open(DATA_IN_PATH+INPUT_TRAIN_DATA_FILE_NAME,'rb'))\n",
    "label_data=np.load(open(DATA_IN_PATH+LABEL_TRAIN_DATA_FILE_NAME,'rb'))\n",
    "\n",
    "prepro_config=None\n",
    "\n",
    "with open(DATA_IN_PATH+DATA_CONFIGS_FILE_NAME,'r') as f:\n",
    "    prepro_configs=json.load(f)"
   ]
  },
  {
   "cell_type": "code",
   "execution_count": 68,
   "metadata": {},
   "outputs": [],
   "source": [
    "from sklearn.model_selection import train_test_split\n",
    "\n",
    "TEST_SPLIT=0.1\n",
    "RANDOM_SEED=13371447\n",
    "\n",
    "train_input, test_input, train_label, test_label=train_test_split(input_data,label_data,test_size=TEST_SPLIT,random_state=RANDOM_SEED)"
   ]
  },
  {
   "cell_type": "code",
   "execution_count": 69,
   "metadata": {},
   "outputs": [],
   "source": [
    "import tensorflow as tf\n",
    "\n",
    "BATCH_SIZE=16\n",
    "NUM_EPOCHS=3\n",
    "\n",
    "def mapping_fn(X, Y):\n",
    "    inputs, labels={'x':X},Y\n",
    "    return inputs, labels\n",
    "\n",
    "def train_input_fn():\n",
    "    dataset=tf.data.Dataset.from_tensor_slices((train_input, train_label))\n",
    "    dataset=dataset.shuffle(buffer_size=1000)\n",
    "    dataset=dataset.batch(BATCH_SIZE)\n",
    "    \n",
    "    dataset=dataset.map(mapping_fn)\n",
    "    \n",
    "    dataset=dataset.repeat(count=NUM_EPOCHS)\n",
    "    \n",
    "    iterator=tf.compat.v1.data.make_one_shot_iterator(dataset)\n",
    "    #dataset.make_one_shot_iterator()\n",
    "\n",
    "    return iterator.get_next()\n",
    "\n",
    "def eval_input_fn():\n",
    "    dataset=tf.compat.v1.data.Dataset.from_tensor_slices((test_input,test_label))\n",
    "    dataset=dataset.map(mapping_fn)\n",
    "    dataset=dataset.batch(BATCH_SIZE)\n",
    "    iterator=dataset.make_one_shot_iterator()\n",
    "    \n",
    "    return iterator.get_next()"
   ]
  },
  {
   "cell_type": "code",
   "execution_count": 70,
   "metadata": {},
   "outputs": [],
   "source": [
    "VOCAB_SIZE=prepro_configs['vocab_size']"
   ]
  },
  {
   "cell_type": "code",
   "execution_count": 71,
   "metadata": {},
   "outputs": [],
   "source": [
    "WORD_EMBEDDING_DIM=100\n",
    "HIDDEN_STATE_DIM=150\n",
    "DENSE_FEATURE_DIM=150\n",
    "\n",
    "learning_rate=0.001"
   ]
  },
  {
   "cell_type": "code",
   "execution_count": 72,
   "metadata": {},
   "outputs": [],
   "source": [
    "def model_fn(features, labels, mode):\n",
    "    TRAIN=mode==tf.estimator.ModeKeys.TRAIN\n",
    "    EVAL=mode==tf.estimator.ModeKeys.EVAL\n",
    "    PREDICT=mode==tf.estimator.ModeKeys.PREDICT\n",
    "    \n",
    "    embedding_layer=tf.keras.layers.Embedding(VOCAB_SIZE,WORD_EMBEDDING_DIM)(features['x'])\n",
    "    \n",
    "    embedding_layer=tf.keras.layers.Dropout(0.2)(embedding_layer)\n",
    "    \n",
    "    #rnn_layers=[tf.nn.rnn_cell.LSTMCell(size) for size in [HIDDEN_STATE_DIM, HIDDEN_STATE_DIM]]\n",
    "    rnn_layers=[tf.compat.v1.nn.rnn_cell.LSTMCell(size) for size in [HIDDEN_STATE_DIM, HIDDEN_STATE_DIM]]\n",
    "    \n",
    "    #multi_rnn_cell=tf.nn.rnn_cell.MultiRNNCell(rnn_layers)\n",
    "    multi_rnn_cell=tf.compat.v1.nn.rnn_cell.MultiRNNCell(rnn_layers)\n",
    "    \n",
    "    outputs,state=tf.compat.v1.nn.dynamic_rnn(cell=multi_rnn_cell,inputs=embedding_layer,dtype=tf.float32)\n",
    "    \n",
    "    outputs=tf.keras.layers.Dropout(0.2)(outputs)\n",
    "    hidden_layer=tf.keras.layers.Dense(DENSE_FEATURE_DIM,activation=tf.nn.tanh)(outputs[:,-1,:])\n",
    "    hidden_layer=tf.keras.layers.Dropout(0.2)(hidden_layer)\n",
    "    logits=tf.keras.layers.Dense(1)(hidden_layer)\n",
    "    logits=tf.squeeze(logits, axis=-1)\n",
    "    \n",
    "    sigmoid_logits=tf.nn.sigmoid(logits)\n",
    "    \n",
    "    if PREDICT:\n",
    "        predictions={'sentiment':sigmoid_logits}\n",
    "        \n",
    "        return tf.estimator.EstimatorSpec(mode=mode,predictions=predictions)\n",
    "    \n",
    "    loss=tf.compat.v1.losses.sigmoid_cross_entropy(labels, logits)\n",
    "    \n",
    "    if EVAL:\n",
    "        accuracy=tf.compat.v1.metrics.accuracy(labels, tf.round(sigmoid_logits))\n",
    "        eval_metric_ops={'acc':accuracy}\n",
    "        \n",
    "        return tf.estimator.EstimatorSpec(mode, loss=loss,eval_metric_ops=eval_metric_ops)\n",
    "    \n",
    "    if TRAIN:\n",
    "        global_step=tf.compat.v1.train.get_global_step()\n",
    "        train_op=tf.compat.v1.train.AdamOptimizer(learning_rate).minimize(loss, global_step)\n",
    "        \n",
    "        return tf.estimator.EstimatorSpec(mode=mode,train_op=train_op,loss=loss)"
   ]
  },
  {
   "cell_type": "code",
   "execution_count": 73,
   "metadata": {},
   "outputs": [
    {
     "name": "stdout",
     "output_type": "stream",
     "text": [
      "INFO:tensorflow:Using default config.\n",
      "INFO:tensorflow:Using config: {'_model_dir': './data_out/checkpoint/rnn', '_tf_random_seed': None, '_save_summary_steps': 100, '_save_checkpoints_steps': None, '_save_checkpoints_secs': 600, '_session_config': allow_soft_placement: true\n",
      "graph_options {\n",
      "  rewrite_options {\n",
      "    meta_optimizer_iterations: ONE\n",
      "  }\n",
      "}\n",
      ", '_keep_checkpoint_max': 5, '_keep_checkpoint_every_n_hours': 10000, '_log_step_count_steps': 100, '_train_distribute': None, '_device_fn': None, '_protocol': None, '_eval_distribute': None, '_experimental_distribute': None, '_experimental_max_worker_delay_secs': None, '_session_creation_timeout_secs': 7200, '_service': None, '_cluster_spec': ClusterSpec({}), '_task_type': 'worker', '_task_id': 0, '_global_id_in_cluster': 0, '_master': '', '_evaluation_master': '', '_is_chief': True, '_num_ps_replicas': 0, '_num_worker_replicas': 1}\n"
     ]
    }
   ],
   "source": [
    "import os\n",
    "\n",
    "if not os.path.exists(DATA_OUT_PATH):\n",
    "    os.makedirs(DATA_OUT_PATH)\n",
    "    \n",
    "est=tf.estimator.Estimator(model_fn,model_dir=DATA_OUT_PATH+'checkpoint/rnn')"
   ]
  },
  {
   "cell_type": "code",
   "execution_count": 74,
   "metadata": {},
   "outputs": [
    {
     "name": "stdout",
     "output_type": "stream",
     "text": [
      "INFO:tensorflow:Calling model_fn.\n",
      "INFO:tensorflow:Done calling model_fn.\n",
      "INFO:tensorflow:Create CheckpointSaverHook.\n",
      "INFO:tensorflow:Graph was finalized.\n",
      "INFO:tensorflow:Restoring parameters from ./data_out/checkpoint/rnn\\model.ckpt-4221\n",
      "WARNING:tensorflow:From C:\\Users\\yuhwa\\anaconda3\\lib\\site-packages\\tensorflow\\python\\training\\saver.py:1077: get_checkpoint_mtimes (from tensorflow.python.training.checkpoint_management) is deprecated and will be removed in a future version.\n",
      "Instructions for updating:\n",
      "Use standard file utilities to get mtimes.\n",
      "INFO:tensorflow:Running local_init_op.\n",
      "INFO:tensorflow:Done running local_init_op.\n",
      "INFO:tensorflow:Calling checkpoint listeners before saving checkpoint 4221...\n",
      "INFO:tensorflow:Saving checkpoints for 4221 into ./data_out/checkpoint/rnn\\model.ckpt.\n",
      "INFO:tensorflow:Calling checkpoint listeners after saving checkpoint 4221...\n",
      "INFO:tensorflow:loss = 0.69468683, step = 4221\n",
      "INFO:tensorflow:global_step/sec: 6.58446\n",
      "INFO:tensorflow:loss = 0.71780556, step = 4321 (15.189 sec)\n",
      "INFO:tensorflow:global_step/sec: 5.7776\n",
      "INFO:tensorflow:loss = 0.6612749, step = 4421 (17.308 sec)\n",
      "INFO:tensorflow:global_step/sec: 5.57587\n",
      "INFO:tensorflow:loss = 0.70439285, step = 4521 (17.933 sec)\n",
      "INFO:tensorflow:global_step/sec: 5.70449\n",
      "INFO:tensorflow:loss = 0.6519248, step = 4621 (17.530 sec)\n",
      "INFO:tensorflow:global_step/sec: 5.41955\n",
      "INFO:tensorflow:loss = 0.72016233, step = 4721 (18.453 sec)\n",
      "INFO:tensorflow:global_step/sec: 5.39767\n",
      "INFO:tensorflow:loss = 0.6890563, step = 4821 (18.527 sec)\n",
      "INFO:tensorflow:global_step/sec: 5.49343\n",
      "INFO:tensorflow:loss = 0.6908891, step = 4921 (18.211 sec)\n",
      "INFO:tensorflow:global_step/sec: 5.50459\n",
      "INFO:tensorflow:loss = 0.69007814, step = 5021 (18.159 sec)\n",
      "INFO:tensorflow:global_step/sec: 5.61748\n",
      "INFO:tensorflow:loss = 0.6930134, step = 5121 (17.802 sec)\n",
      "INFO:tensorflow:global_step/sec: 5.55338\n",
      "INFO:tensorflow:loss = 0.6796905, step = 5221 (18.008 sec)\n",
      "INFO:tensorflow:global_step/sec: 5.64785\n",
      "INFO:tensorflow:loss = 0.69318074, step = 5321 (17.705 sec)\n",
      "INFO:tensorflow:global_step/sec: 4.25909\n",
      "INFO:tensorflow:loss = 0.6986457, step = 5421 (23.481 sec)\n",
      "INFO:tensorflow:global_step/sec: 4.03838\n",
      "INFO:tensorflow:loss = 0.69430155, step = 5521 (24.762 sec)\n",
      "INFO:tensorflow:global_step/sec: 5.12021\n",
      "INFO:tensorflow:loss = 0.6874467, step = 5621 (19.537 sec)\n",
      "INFO:tensorflow:global_step/sec: 5.60357\n",
      "INFO:tensorflow:loss = 0.7214533, step = 5721 (17.837 sec)\n",
      "INFO:tensorflow:global_step/sec: 5.7701\n",
      "INFO:tensorflow:loss = 0.6822112, step = 5821 (17.331 sec)\n",
      "INFO:tensorflow:global_step/sec: 5.64565\n",
      "INFO:tensorflow:loss = 0.69487816, step = 5921 (17.713 sec)\n",
      "INFO:tensorflow:global_step/sec: 5.07533\n",
      "INFO:tensorflow:loss = 0.69329756, step = 6021 (19.704 sec)\n",
      "INFO:tensorflow:global_step/sec: 5.03665\n",
      "INFO:tensorflow:loss = 0.60802275, step = 6121 (19.855 sec)\n",
      "INFO:tensorflow:global_step/sec: 4.16632\n",
      "INFO:tensorflow:loss = 0.6981071, step = 6221 (24.002 sec)\n",
      "INFO:tensorflow:global_step/sec: 4.01078\n",
      "INFO:tensorflow:loss = 0.67889917, step = 6321 (24.939 sec)\n",
      "INFO:tensorflow:global_step/sec: 4.77283\n",
      "INFO:tensorflow:loss = 0.68957627, step = 6421 (20.946 sec)\n",
      "INFO:tensorflow:global_step/sec: 5.24982\n",
      "INFO:tensorflow:loss = 0.6434243, step = 6521 (19.045 sec)\n",
      "INFO:tensorflow:global_step/sec: 5.78144\n",
      "INFO:tensorflow:loss = 0.67929137, step = 6621 (17.298 sec)\n",
      "INFO:tensorflow:global_step/sec: 5.61498\n",
      "INFO:tensorflow:loss = 0.6949174, step = 6721 (17.809 sec)\n",
      "INFO:tensorflow:global_step/sec: 5.0951\n",
      "INFO:tensorflow:loss = 0.60873526, step = 6821 (19.628 sec)\n",
      "INFO:tensorflow:global_step/sec: 4.6908\n",
      "INFO:tensorflow:loss = 0.6742687, step = 6921 (21.318 sec)\n",
      "INFO:tensorflow:global_step/sec: 5.36254\n",
      "INFO:tensorflow:loss = 0.67792094, step = 7021 (18.656 sec)\n",
      "INFO:tensorflow:global_step/sec: 5.72041\n",
      "INFO:tensorflow:loss = 0.6937276, step = 7121 (17.473 sec)\n",
      "INFO:tensorflow:global_step/sec: 5.81366\n",
      "INFO:tensorflow:loss = 0.71306187, step = 7221 (17.201 sec)\n",
      "INFO:tensorflow:global_step/sec: 5.35696\n",
      "INFO:tensorflow:loss = 0.67820585, step = 7321 (18.668 sec)\n",
      "INFO:tensorflow:Calling checkpoint listeners before saving checkpoint 7355...\n",
      "INFO:tensorflow:Saving checkpoints for 7355 into ./data_out/checkpoint/rnn\\model.ckpt.\n",
      "INFO:tensorflow:Calling checkpoint listeners after saving checkpoint 7355...\n",
      "INFO:tensorflow:global_step/sec: 4.29208\n",
      "INFO:tensorflow:loss = 0.683807, step = 7421 (23.299 sec)\n",
      "INFO:tensorflow:global_step/sec: 4.02004\n",
      "INFO:tensorflow:loss = 0.753258, step = 7521 (24.875 sec)\n",
      "INFO:tensorflow:global_step/sec: 4.66681\n",
      "INFO:tensorflow:loss = 0.70521474, step = 7621 (21.434 sec)\n",
      "INFO:tensorflow:global_step/sec: 5.15019\n",
      "INFO:tensorflow:loss = 0.6971651, step = 7721 (19.409 sec)\n",
      "INFO:tensorflow:global_step/sec: 5.19882\n",
      "INFO:tensorflow:loss = 0.7442164, step = 7821 (19.236 sec)\n",
      "INFO:tensorflow:global_step/sec: 4.87075\n",
      "INFO:tensorflow:loss = 0.62769806, step = 7921 (20.530 sec)\n",
      "INFO:tensorflow:global_step/sec: 4.24813\n",
      "INFO:tensorflow:loss = 0.74125004, step = 8021 (23.540 sec)\n",
      "INFO:tensorflow:global_step/sec: 4.05931\n",
      "INFO:tensorflow:loss = 0.71104705, step = 8121 (24.635 sec)\n",
      "INFO:tensorflow:global_step/sec: 4.77572\n",
      "INFO:tensorflow:loss = 0.49288633, step = 8221 (20.947 sec)\n",
      "INFO:tensorflow:global_step/sec: 5.27877\n",
      "INFO:tensorflow:loss = 0.30332276, step = 8321 (18.935 sec)\n",
      "INFO:tensorflow:global_step/sec: 5.30182\n",
      "INFO:tensorflow:loss = 0.2605508, step = 8421 (18.863 sec)\n",
      "INFO:tensorflow:Calling checkpoint listeners before saving checkpoint 8442...\n",
      "INFO:tensorflow:Saving checkpoints for 8442 into ./data_out/checkpoint/rnn\\model.ckpt.\n",
      "INFO:tensorflow:Calling checkpoint listeners after saving checkpoint 8442...\n",
      "INFO:tensorflow:Loss for final step: 0.35936433.\n"
     ]
    },
    {
     "data": {
      "text/plain": [
       "<tensorflow_estimator.python.estimator.estimator.EstimatorV2 at 0x23db79b1908>"
      ]
     },
     "execution_count": 74,
     "metadata": {},
     "output_type": "execute_result"
    }
   ],
   "source": [
    "est.train(train_input_fn)"
   ]
  },
  {
   "cell_type": "code",
   "execution_count": 75,
   "metadata": {},
   "outputs": [
    {
     "name": "stdout",
     "output_type": "stream",
     "text": [
      "INFO:tensorflow:Calling model_fn.\n",
      "INFO:tensorflow:Done calling model_fn.\n",
      "INFO:tensorflow:Starting evaluation at 2020-12-30T14:09:01Z\n",
      "INFO:tensorflow:Graph was finalized.\n",
      "INFO:tensorflow:Restoring parameters from ./data_out/checkpoint/rnn\\model.ckpt-8442\n",
      "INFO:tensorflow:Running local_init_op.\n",
      "INFO:tensorflow:Done running local_init_op.\n",
      "INFO:tensorflow:Inference Time : 4.08215s\n",
      "INFO:tensorflow:Finished evaluation at 2020-12-30-14:09:05\n",
      "INFO:tensorflow:Saving dict for global step 8442: acc = 0.8056, global_step = 8442, loss = 0.4432413\n",
      "INFO:tensorflow:Saving 'checkpoint_path' summary for global step 8442: ./data_out/checkpoint/rnn\\model.ckpt-8442\n"
     ]
    },
    {
     "data": {
      "text/plain": [
       "{'acc': 0.8056, 'loss': 0.4432413, 'global_step': 8442}"
      ]
     },
     "execution_count": 75,
     "metadata": {},
     "output_type": "execute_result"
    }
   ],
   "source": [
    "est.evaluate(eval_input_fn)"
   ]
  },
  {
   "cell_type": "code",
   "execution_count": 77,
   "metadata": {},
   "outputs": [],
   "source": [
    "TEST_INPUT_DATA='test_input.npy'\n",
    "\n",
    "test_input_data=np.load(open(DATA_IN_PATH+TEST_INPUT_DATA,'rb'))"
   ]
  },
  {
   "cell_type": "code",
   "execution_count": 80,
   "metadata": {},
   "outputs": [
    {
     "name": "stdout",
     "output_type": "stream",
     "text": [
      "WARNING:tensorflow:From C:\\Users\\yuhwa\\anaconda3\\lib\\site-packages\\tensorflow\\python\\util\\lazy_loader.py:63: The name tf.estimator.inputs is deprecated. Please use tf.compat.v1.estimator.inputs instead.\n",
      "\n"
     ]
    }
   ],
   "source": [
    "predict_input_fn=tf.compat.v1.estimator.inputs.numpy_input_fn(x={\"x\":test_input_data},shuffle=False)"
   ]
  },
  {
   "cell_type": "code",
   "execution_count": 81,
   "metadata": {
    "scrolled": true
   },
   "outputs": [
    {
     "name": "stdout",
     "output_type": "stream",
     "text": [
      "WARNING:tensorflow:From C:\\Users\\yuhwa\\anaconda3\\lib\\site-packages\\tensorflow_estimator\\python\\estimator\\inputs\\queues\\feeding_queue_runner.py:65: QueueRunner.__init__ (from tensorflow.python.training.queue_runner_impl) is deprecated and will be removed in a future version.\n",
      "Instructions for updating:\n",
      "To construct input pipelines, use the `tf.data` module.\n",
      "WARNING:tensorflow:From C:\\Users\\yuhwa\\anaconda3\\lib\\site-packages\\tensorflow_estimator\\python\\estimator\\inputs\\queues\\feeding_functions.py:491: add_queue_runner (from tensorflow.python.training.queue_runner_impl) is deprecated and will be removed in a future version.\n",
      "Instructions for updating:\n",
      "To construct input pipelines, use the `tf.data` module.\n",
      "INFO:tensorflow:Calling model_fn.\n",
      "INFO:tensorflow:Done calling model_fn.\n",
      "INFO:tensorflow:Graph was finalized.\n",
      "INFO:tensorflow:Restoring parameters from ./data_out/checkpoint/rnn\\model.ckpt-8442\n",
      "INFO:tensorflow:Running local_init_op.\n",
      "INFO:tensorflow:Done running local_init_op.\n",
      "WARNING:tensorflow:From C:\\Users\\yuhwa\\anaconda3\\lib\\site-packages\\tensorflow\\python\\training\\monitored_session.py:906: start_queue_runners (from tensorflow.python.training.queue_runner_impl) is deprecated and will be removed in a future version.\n",
      "Instructions for updating:\n",
      "To construct input pipelines, use the `tf.data` module.\n"
     ]
    }
   ],
   "source": [
    "predictions=np.array([p['sentiment'] for p in est.predict(input_fn=predict_input_fn)])"
   ]
  },
  {
   "cell_type": "code",
   "execution_count": 88,
   "metadata": {},
   "outputs": [],
   "source": [
    "TEST_ID_DATA='test_id.npy'\n",
    "test_id=np.load(open(DATA_IN_PATH+TEST_ID_DATA,'rb'),allow_pickle=True)\n",
    "output=pd.DataFrame(data={\"id\":test_id,\"sentiment\":list(predictions)})\n",
    "output.to_csv(DATA_OUT_PATH+\"rnn_predict.csv\",index=False,quoting=3)"
   ]
  },
  {
   "cell_type": "code",
   "execution_count": 86,
   "metadata": {},
   "outputs": [],
   "source": []
  },
  {
   "cell_type": "code",
   "execution_count": null,
   "metadata": {},
   "outputs": [],
   "source": []
  }
 ],
 "metadata": {
  "kernelspec": {
   "display_name": "Python 3",
   "language": "python",
   "name": "python3"
  },
  "language_info": {
   "codemirror_mode": {
    "name": "ipython",
    "version": 3
   },
   "file_extension": ".py",
   "mimetype": "text/x-python",
   "name": "python",
   "nbconvert_exporter": "python",
   "pygments_lexer": "ipython3",
   "version": "3.7.7"
  }
 },
 "nbformat": 4,
 "nbformat_minor": 4
}
