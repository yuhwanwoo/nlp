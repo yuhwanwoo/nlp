{
 "cells": [
  {
   "cell_type": "code",
   "execution_count": 2,
   "metadata": {},
   "outputs": [],
   "source": [
    "import zipfile\n",
    "\n",
    "DATA_IN_PATH='./data_in2/'\n",
    "file_list=['train.csv.zip','test.csv.zip','sample_submission.csv.zip']\n",
    "\n",
    "for file in file_list:\n",
    "    zipRef=zipfile.ZipFile(DATA_IN_PATH+file,'r')\n",
    "    zipRef.extractall(DATA_IN_PATH)\n",
    "    zipRef.close()"
   ]
  },
  {
   "cell_type": "code",
   "execution_count": 3,
   "metadata": {},
   "outputs": [],
   "source": [
    "import numpy as np\n",
    "import pandas as pd\n",
    "import os\n",
    "import matplotlib.pyplot as plt\n",
    "import seaborn as sns\n",
    "from pathlib import Path\n",
    "%matplotlib inline"
   ]
  },
  {
   "cell_type": "code",
   "execution_count": 4,
   "metadata": {},
   "outputs": [
    {
     "data": {
      "text/html": [
       "<div>\n",
       "<style scoped>\n",
       "    .dataframe tbody tr th:only-of-type {\n",
       "        vertical-align: middle;\n",
       "    }\n",
       "\n",
       "    .dataframe tbody tr th {\n",
       "        vertical-align: top;\n",
       "    }\n",
       "\n",
       "    .dataframe thead th {\n",
       "        text-align: right;\n",
       "    }\n",
       "</style>\n",
       "<table border=\"1\" class=\"dataframe\">\n",
       "  <thead>\n",
       "    <tr style=\"text-align: right;\">\n",
       "      <th></th>\n",
       "      <th>id</th>\n",
       "      <th>qid1</th>\n",
       "      <th>qid2</th>\n",
       "      <th>question1</th>\n",
       "      <th>question2</th>\n",
       "      <th>is_duplicate</th>\n",
       "    </tr>\n",
       "  </thead>\n",
       "  <tbody>\n",
       "    <tr>\n",
       "      <th>0</th>\n",
       "      <td>0</td>\n",
       "      <td>1</td>\n",
       "      <td>2</td>\n",
       "      <td>What is the step by step guide to invest in sh...</td>\n",
       "      <td>What is the step by step guide to invest in sh...</td>\n",
       "      <td>0</td>\n",
       "    </tr>\n",
       "    <tr>\n",
       "      <th>1</th>\n",
       "      <td>1</td>\n",
       "      <td>3</td>\n",
       "      <td>4</td>\n",
       "      <td>What is the story of Kohinoor (Koh-i-Noor) Dia...</td>\n",
       "      <td>What would happen if the Indian government sto...</td>\n",
       "      <td>0</td>\n",
       "    </tr>\n",
       "    <tr>\n",
       "      <th>2</th>\n",
       "      <td>2</td>\n",
       "      <td>5</td>\n",
       "      <td>6</td>\n",
       "      <td>How can I increase the speed of my internet co...</td>\n",
       "      <td>How can Internet speed be increased by hacking...</td>\n",
       "      <td>0</td>\n",
       "    </tr>\n",
       "    <tr>\n",
       "      <th>3</th>\n",
       "      <td>3</td>\n",
       "      <td>7</td>\n",
       "      <td>8</td>\n",
       "      <td>Why am I mentally very lonely? How can I solve...</td>\n",
       "      <td>Find the remainder when [math]23^{24}[/math] i...</td>\n",
       "      <td>0</td>\n",
       "    </tr>\n",
       "    <tr>\n",
       "      <th>4</th>\n",
       "      <td>4</td>\n",
       "      <td>9</td>\n",
       "      <td>10</td>\n",
       "      <td>Which one dissolve in water quikly sugar, salt...</td>\n",
       "      <td>Which fish would survive in salt water?</td>\n",
       "      <td>0</td>\n",
       "    </tr>\n",
       "  </tbody>\n",
       "</table>\n",
       "</div>"
      ],
      "text/plain": [
       "   id  qid1  qid2                                          question1  \\\n",
       "0   0     1     2  What is the step by step guide to invest in sh...   \n",
       "1   1     3     4  What is the story of Kohinoor (Koh-i-Noor) Dia...   \n",
       "2   2     5     6  How can I increase the speed of my internet co...   \n",
       "3   3     7     8  Why am I mentally very lonely? How can I solve...   \n",
       "4   4     9    10  Which one dissolve in water quikly sugar, salt...   \n",
       "\n",
       "                                           question2  is_duplicate  \n",
       "0  What is the step by step guide to invest in sh...             0  \n",
       "1  What would happen if the Indian government sto...             0  \n",
       "2  How can Internet speed be increased by hacking...             0  \n",
       "3  Find the remainder when [math]23^{24}[/math] i...             0  \n",
       "4            Which fish would survive in salt water?             0  "
      ]
     },
     "execution_count": 4,
     "metadata": {},
     "output_type": "execute_result"
    }
   ],
   "source": [
    "train_data=pd.read_csv(DATA_IN_PATH+'train.csv')\n",
    "train_data.head()"
   ]
  },
  {
   "cell_type": "code",
   "execution_count": 6,
   "metadata": {},
   "outputs": [
    {
     "name": "stdout",
     "output_type": "stream",
     "text": [
      "파일 크기: \n",
      "sample_submission.csv         22.35MB\n",
      "test.csv                      477.59MB\n",
      "train.csv                     63.4MB\n"
     ]
    }
   ],
   "source": [
    "print(\"파일 크기: \")\n",
    "for file in os.listdir(DATA_IN_PATH):\n",
    "    if 'csv' in file and 'zip' not in file:\n",
    "        print(file.ljust(30)+str(round(os.path.getsize(DATA_IN_PATH+file)/1000000,2))+'MB')"
   ]
  },
  {
   "cell_type": "code",
   "execution_count": 7,
   "metadata": {},
   "outputs": [
    {
     "name": "stdout",
     "output_type": "stream",
     "text": [
      "전체 학습 데이터의 개수: 404290\n"
     ]
    }
   ],
   "source": [
    "print('전체 학습 데이터의 개수: {}'.format(len(train_data)))"
   ]
  },
  {
   "cell_type": "code",
   "execution_count": 10,
   "metadata": {},
   "outputs": [
    {
     "data": {
      "text/plain": [
       "0    What is the step by step guide to invest in sh...\n",
       "1    What is the story of Kohinoor (Koh-i-Noor) Dia...\n",
       "2    How can I increase the speed of my internet co...\n",
       "3    Why am I mentally very lonely? How can I solve...\n",
       "4    Which one dissolve in water quikly sugar, salt...\n",
       "dtype: object"
      ]
     },
     "execution_count": 10,
     "metadata": {},
     "output_type": "execute_result"
    }
   ],
   "source": [
    "train_set=pd.Series(train_data['question1'].tolist()+train_data['question2'].tolist()).astype(str)\n",
    "train_set.head()"
   ]
  },
  {
   "cell_type": "code",
   "execution_count": 11,
   "metadata": {},
   "outputs": [
    {
     "name": "stdout",
     "output_type": "stream",
     "text": [
      "교육 데이터의 총 질문 수: 537361\n",
      "반복해서 나타나는 질문의 수: 111873\n"
     ]
    }
   ],
   "source": [
    "print('교육 데이터의 총 질문 수: {}'.format(len(np.unique(train_set))))\n",
    "print('반복해서 나타나는 질문의 수: {}'.format(np.sum(train_set.value_counts()>1)))"
   ]
  },
  {
   "cell_type": "code",
   "execution_count": 12,
   "metadata": {},
   "outputs": [
    {
     "data": {
      "text/plain": [
       "Text(0, 0.5, 'Number of questions')"
      ]
     },
     "execution_count": 12,
     "metadata": {},
     "output_type": "execute_result"
    },
    {
     "data": {
      "image/png": "[encoded data removed]",
      "text/plain": [
       "<Figure size 864x360 with 1 Axes>"
      ]
     },
     "metadata": {
      "needs_background": "light"
     },
     "output_type": "display_data"
    }
   ],
   "source": [
    "# 그래프에 대한 이미지 사이즈 선언\n",
    "# figsize: (가로, 세로) 형태의 튜플로 입력\n",
    "plt.figure(figsize=(12,5))\n",
    "# 히스토그램 선언\n",
    "# bins : 히스토그램 값들에 대한 버켓 범위\n",
    "# range : x축 값의 범위\n",
    "# alpha : 그래프 색상 투명도\n",
    "# color : 그래프 색상\n",
    "# label : 그래프에 대한 라벨\n",
    "plt.hist(train_set.value_counts(), bins=50, alpha=0.5, color='r', label='word')\n",
    "plt.yscale('log', nonposy='clip')\n",
    "# 그래프 제목\n",
    "plt.title('Log-Histogram of question appearance counts')\n",
    "# 그래프 x 축 라벨\n",
    "plt.xlabel('Number of occurrences of question')\n",
    "# 그래프 y 축 라벨\n",
    "plt.ylabel('Number of questions')"
   ]
  },
  {
   "cell_type": "code",
   "execution_count": 13,
   "metadata": {},
   "outputs": [
    {
     "name": "stdout",
     "output_type": "stream",
     "text": [
      "중복 최대 개수: 161\n",
      "중복 최소 개수: 1\n",
      "중복 평균 개수: 1.50\n",
      "중복 표준편차: 1.91\n",
      "중복 중간길이: 1.0\n",
      "제1사분위 중복: 1.0\n",
      "제3사분위 중복: 1.0\n"
     ]
    }
   ],
   "source": [
    "print('중복 최대 개수: {}'.format(np.max(train_set.value_counts())))\n",
    "print('중복 최소 개수: {}'.format(np.min(train_set.value_counts())))\n",
    "print('중복 평균 개수: {:.2f}'.format(np.mean(train_set.value_counts())))\n",
    "print('중복 표준편차: {:.2f}'.format(np.std(train_set.value_counts())))\n",
    "print('중복 중간길이: {}'.format(np.median(train_set.value_counts())))\n",
    "print('제1사분위 중복: {}'.format(np.percentile(train_set.value_counts(),25)))\n",
    "print('제3사분위 중복: {}'.format(np.percentile(train_set.value_counts(),75)))"
   ]
  },
  {
   "cell_type": "code",
   "execution_count": null,
   "metadata": {},
   "outputs": [],
   "source": []
  }
 ],
 "metadata": {
  "kernelspec": {
   "display_name": "Python 3",
   "language": "python",
   "name": "python3"
  },
  "language_info": {
   "codemirror_mode": {
    "name": "ipython",
    "version": 3
   },
   "file_extension": ".py",
   "mimetype": "text/x-python",
   "name": "python",
   "nbconvert_exporter": "python",
   "pygments_lexer": "ipython3",
   "version": "3.7.7"
  }
 },
 "nbformat": 4,
 "nbformat_minor": 4
}
