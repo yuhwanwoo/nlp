{
 "cells": [
  {
   "cell_type": "code",
   "execution_count": 13,
   "metadata": {},
   "outputs": [],
   "source": [
    "import os\n",
    "from datetime import datetime\n",
    "import tensorflow.compat.v1 as tf\n",
    "import numpy as np\n",
    "import json\n",
    "from sklearn.model_selection import train_test_split"
   ]
  },
  {
   "cell_type": "code",
   "execution_count": 3,
   "metadata": {},
   "outputs": [],
   "source": [
    "DATA_IN_PATH='./data_in/'\n",
    "DATA_OUT_PATH='./data_out/'\n",
    "INPUT_TRAIN_DATA='nsmc_train_input.npy'\n",
    "LABEL_TRAIN_DATA='nsmc_train_label.npy'\n",
    "DATA_CONFIGS='data_configs.json'\n",
    "\n",
    "input_data=np.load(open(DATA_IN_PATH+INPUT_TRAIN_DATA,'rb'))\n",
    "label_data=np.load(open(DATA_IN_PATH+LABEL_TRAIN_DATA,'rb'))\n",
    "prepro_configs=json.load(open(DATA_IN_PATH+DATA_CONFIGS,'r'))"
   ]
  },
  {
   "cell_type": "code",
   "execution_count": 11,
   "metadata": {},
   "outputs": [],
   "source": [
    "TEST_SPLIT=0.1\n",
    "RNG_SEED=13371447\n",
    "VOCAB_SIZE = prepro_configs['vocab_size']+1\n",
    "EMB_SIZE = 128\n",
    "BATCH_SIZE = 16\n",
    "NUM_EPOCHS = 1\n",
    "\n",
    "input_train, input_eval, label_train, label_eval=train_test_split(input_data, label_data[0], test_size=TEST_SPLIT, random_state=RNG_SEED)"
   ]
  },
  {
   "cell_type": "code",
   "execution_count": 21,
   "metadata": {},
   "outputs": [],
   "source": [
    "def mapping_fn(X,Y):\n",
    "    input,label={'x':X},Y\n",
    "    return input, label\n",
    "\n",
    "def train_input_fn():\n",
    "    dataset=tf.data.Dataset.from_tensor_slices((input_train,label_train))\n",
    "    dataset=dataset.shuffle(buffer_size=len(input_train))\n",
    "    dataset=dataset.batch(BATCH_SIZE)\n",
    "    dataset=dataset.map(mapping_fn)\n",
    "    dataset=dataset.repeat(count=NUM_EPOCHS)\n",
    "    iterator=dataset.make_one_shot_iterator()\n",
    "    \n",
    "    return iterator.get_next()\n",
    "\n",
    "def eval_input_fn():\n",
    "    dataset=tf.data.Dataset.from_tensor_slices((input_eval, label_eval))\n",
    "    dataset=dataset.shuffle(buffer_size=len(input_eval))\n",
    "    dataset=dataset.batch(16)\n",
    "    dataset=dataset.map(mapping_fn)\n",
    "    iterator=dataset.make_one_shot_iterator()\n",
    "    \n",
    "    return iterator.get_next()"
   ]
  },
  {
   "cell_type": "code",
   "execution_count": 28,
   "metadata": {},
   "outputs": [],
   "source": [
    "def model_fn(features, labels, mode, params):\n",
    "    TRAIN=mode==tf.estimator.ModeKeys.TRAIN\n",
    "    EVAL=mode==tf.estimator.ModeKeys.EVAL\n",
    "    PREDICT=mode==tf.estimator.ModeKeys.PREDICT\n",
    "    \n",
    "    embedding_layer=tf.keras.layers.Embedding(VOCAB_SIZE, EMB_SIZE)(features['x'])\n",
    "    \n",
    "    dropout_emb=tf.keras.layers.Dropout(rate=0.2)(embedding_layer)\n",
    "    \n",
    "    conv=tf.keras.layers.Conv1D(filters=32, kernel_size=3, padding='same', activation=tf.nn.relu)(dropout_emb)\n",
    "    \n",
    "    pool=tf.keras.layers.GlobalMaxPool1D()(conv)\n",
    "    \n",
    "    hidden=tf.keras.layers.Dense(units=250, activation=tf.nn.relu)(pool)\n",
    "    \n",
    "    dropout_hidden=tf.keras.layers.Dropout(rate=0.2)(hidden, training=TRAIN)\n",
    "    logits=tf.keras.layers.Dense(units=1)(dropout_hidden)\n",
    "    \n",
    "    if labels is not None:\n",
    "        labels=tf.reshape(labels,[-1,1])\n",
    "        \n",
    "    if TRAIN:\n",
    "        global_step=tf.train.get_global_step()\n",
    "        loss=tf.losses.sigmoid_cross_entropy(labels, logits)\n",
    "        train_op=tf.train.AdamOptimizer(0.001).minimize(loss, global_step)\n",
    "        \n",
    "        return tf.estimator.EstimatorSpec(mode=mode, train_op=train_op, loss=loss)\n",
    "    \n",
    "    elif EVAL:\n",
    "        loss=tf.losses.sigmoid_cross_entropy(labels,logits)\n",
    "        pred=tf.nn.sigmoid(logits)\n",
    "        accuracy=tf.metrics.accuracy(labels, tf.round(pred))\n",
    "        return tf.estimator.EstimatorSpec(mode=mode, loss=loss, eval_metric_ops={'acc':accuracy})\n",
    "    \n",
    "    elif PREDICT:\n",
    "        return tf.estimator.EstimatorSpec(mode=mode,predictions={'prob':tf.nn.sigmoid(logits),})"
   ]
  },
  {
   "cell_type": "code",
   "execution_count": 29,
   "metadata": {},
   "outputs": [
    {
     "name": "stdout",
     "output_type": "stream",
     "text": [
      "INFO:tensorflow:Using default config.\n",
      "INFO:tensorflow:Using config: {'_model_dir': 'data_out/checkpoint/cnn_model', '_tf_random_seed': None, '_save_summary_steps': 100, '_save_checkpoints_steps': None, '_save_checkpoints_secs': 600, '_session_config': allow_soft_placement: true\n",
      "graph_options {\n",
      "  rewrite_options {\n",
      "    meta_optimizer_iterations: ONE\n",
      "  }\n",
      "}\n",
      ", '_keep_checkpoint_max': 5, '_keep_checkpoint_every_n_hours': 10000, '_log_step_count_steps': 100, '_train_distribute': None, '_device_fn': None, '_protocol': None, '_eval_distribute': None, '_experimental_distribute': None, '_experimental_max_worker_delay_secs': None, '_session_creation_timeout_secs': 7200, '_service': None, '_cluster_spec': ClusterSpec({}), '_task_type': 'worker', '_task_id': 0, '_global_id_in_cluster': 0, '_master': '', '_evaluation_master': '', '_is_chief': True, '_num_ps_replicas': 0, '_num_worker_replicas': 1}\n",
      "WARNING:tensorflow:Estimator's model_fn (<function model_fn at 0x000002CC3C9C2318>) includes params argument, but params are not passed to Estimator.\n"
     ]
    }
   ],
   "source": [
    "est=tf.estimator.Estimator(model_fn, model_dir=\"data_out/checkpoint/cnn_model\")"
   ]
  },
  {
   "cell_type": "code",
   "execution_count": 30,
   "metadata": {},
   "outputs": [
    {
     "name": "stdout",
     "output_type": "stream",
     "text": [
      "Experiment started at 15:28:12\n",
      ".....................................\n",
      "INFO:tensorflow:Calling model_fn.\n",
      "INFO:tensorflow:Done calling model_fn.\n",
      "INFO:tensorflow:Create CheckpointSaverHook.\n",
      "INFO:tensorflow:Graph was finalized.\n",
      "INFO:tensorflow:Running local_init_op.\n",
      "INFO:tensorflow:Done running local_init_op.\n",
      "INFO:tensorflow:Calling checkpoint listeners before saving checkpoint 0...\n",
      "INFO:tensorflow:Saving checkpoints for 0 into data_out/checkpoint/cnn_model\\model.ckpt.\n",
      "INFO:tensorflow:Calling checkpoint listeners after saving checkpoint 0...\n",
      "INFO:tensorflow:loss = 0.695583, step = 0\n",
      "INFO:tensorflow:global_step/sec: 13.9143\n",
      "INFO:tensorflow:loss = 0.58177173, step = 100 (7.188 sec)\n",
      "INFO:tensorflow:global_step/sec: 14.0038\n",
      "INFO:tensorflow:loss = 0.7051201, step = 200 (7.141 sec)\n",
      "INFO:tensorflow:global_step/sec: 12.9914\n",
      "INFO:tensorflow:loss = 0.418813, step = 300 (7.698 sec)\n",
      "INFO:tensorflow:global_step/sec: 14.1044\n",
      "INFO:tensorflow:loss = 0.5912791, step = 400 (7.088 sec)\n",
      "INFO:tensorflow:global_step/sec: 14.4055\n",
      "INFO:tensorflow:loss = 0.4548447, step = 500 (6.943 sec)\n",
      "INFO:tensorflow:global_step/sec: 14.4742\n",
      "INFO:tensorflow:loss = 0.43644804, step = 600 (6.909 sec)\n",
      "INFO:tensorflow:global_step/sec: 14.0048\n",
      "INFO:tensorflow:loss = 0.64669603, step = 700 (7.140 sec)\n",
      "INFO:tensorflow:global_step/sec: 14.9477\n",
      "INFO:tensorflow:loss = 0.42769456, step = 800 (6.690 sec)\n",
      "INFO:tensorflow:global_step/sec: 14.9083\n",
      "INFO:tensorflow:loss = 0.47714797, step = 900 (6.708 sec)\n",
      "INFO:tensorflow:global_step/sec: 14.9328\n",
      "INFO:tensorflow:loss = 0.3833493, step = 1000 (6.697 sec)\n",
      "INFO:tensorflow:global_step/sec: 14.9017\n",
      "INFO:tensorflow:loss = 0.3701387, step = 1100 (6.711 sec)\n",
      "INFO:tensorflow:global_step/sec: 14.3411\n",
      "INFO:tensorflow:loss = 0.43461043, step = 1200 (6.973 sec)\n",
      "INFO:tensorflow:global_step/sec: 14.3418\n",
      "INFO:tensorflow:loss = 0.5425679, step = 1300 (6.972 sec)\n",
      "INFO:tensorflow:global_step/sec: 14.3073\n",
      "INFO:tensorflow:loss = 0.24027719, step = 1400 (6.990 sec)\n",
      "INFO:tensorflow:global_step/sec: 14.5958\n",
      "INFO:tensorflow:loss = 0.53016007, step = 1500 (6.851 sec)\n",
      "INFO:tensorflow:global_step/sec: 14.874\n",
      "INFO:tensorflow:loss = 0.35201144, step = 1600 (6.722 sec)\n",
      "INFO:tensorflow:global_step/sec: 14.9007\n",
      "INFO:tensorflow:loss = 0.5910831, step = 1700 (6.720 sec)\n",
      "INFO:tensorflow:global_step/sec: 14.8862\n",
      "INFO:tensorflow:loss = 0.43001366, step = 1800 (6.709 sec)\n",
      "INFO:tensorflow:global_step/sec: 14.8582\n",
      "INFO:tensorflow:loss = 0.35616368, step = 1900 (6.730 sec)\n",
      "INFO:tensorflow:global_step/sec: 14.4564\n",
      "INFO:tensorflow:loss = 0.45362782, step = 2000 (6.918 sec)\n",
      "INFO:tensorflow:global_step/sec: 14.877\n",
      "INFO:tensorflow:loss = 0.3755356, step = 2100 (6.721 sec)\n",
      "INFO:tensorflow:global_step/sec: 14.8994\n",
      "INFO:tensorflow:loss = 0.445305, step = 2200 (6.713 sec)\n",
      "INFO:tensorflow:global_step/sec: 14.8951\n",
      "INFO:tensorflow:loss = 0.51981163, step = 2300 (6.714 sec)\n",
      "INFO:tensorflow:global_step/sec: 14.8631\n",
      "INFO:tensorflow:loss = 0.37297785, step = 2400 (6.728 sec)\n",
      "INFO:tensorflow:global_step/sec: 14.8963\n",
      "INFO:tensorflow:loss = 0.39100608, step = 2500 (6.713 sec)\n",
      "INFO:tensorflow:global_step/sec: 14.8752\n",
      "INFO:tensorflow:loss = 0.36105293, step = 2600 (6.723 sec)\n",
      "INFO:tensorflow:global_step/sec: 14.8873\n",
      "INFO:tensorflow:loss = 0.4257666, step = 2700 (6.717 sec)\n",
      "INFO:tensorflow:global_step/sec: 14.8676\n",
      "INFO:tensorflow:loss = 0.25743613, step = 2800 (6.726 sec)\n",
      "INFO:tensorflow:global_step/sec: 14.8788\n",
      "INFO:tensorflow:loss = 0.4854825, step = 2900 (6.720 sec)\n",
      "INFO:tensorflow:global_step/sec: 14.8852\n",
      "INFO:tensorflow:loss = 0.46846452, step = 3000 (6.719 sec)\n",
      "INFO:tensorflow:global_step/sec: 14.8223\n",
      "INFO:tensorflow:loss = 0.26179016, step = 3100 (6.747 sec)\n",
      "INFO:tensorflow:global_step/sec: 14.8747\n",
      "INFO:tensorflow:loss = 0.5070584, step = 3200 (6.723 sec)\n",
      "INFO:tensorflow:global_step/sec: 14.8445\n",
      "INFO:tensorflow:loss = 0.41027394, step = 3300 (6.737 sec)\n",
      "INFO:tensorflow:global_step/sec: 14.8802\n",
      "INFO:tensorflow:loss = 0.18035454, step = 3400 (6.719 sec)\n",
      "INFO:tensorflow:global_step/sec: 14.8686\n",
      "INFO:tensorflow:loss = 0.28742898, step = 3500 (6.734 sec)\n",
      "INFO:tensorflow:global_step/sec: 14.8399\n",
      "INFO:tensorflow:loss = 0.33740067, step = 3600 (6.732 sec)\n",
      "INFO:tensorflow:global_step/sec: 14.8425\n",
      "INFO:tensorflow:loss = 0.4426938, step = 3700 (6.736 sec)\n",
      "INFO:tensorflow:global_step/sec: 14.6556\n",
      "INFO:tensorflow:loss = 0.5222819, step = 3800 (6.825 sec)\n",
      "INFO:tensorflow:global_step/sec: 14.2765\n",
      "INFO:tensorflow:loss = 0.63081896, step = 3900 (7.004 sec)\n",
      "INFO:tensorflow:global_step/sec: 14.8444\n",
      "INFO:tensorflow:loss = 0.290766, step = 4000 (6.736 sec)\n",
      "INFO:tensorflow:global_step/sec: 14.8352\n",
      "INFO:tensorflow:loss = 0.6423681, step = 4100 (6.742 sec)\n",
      "INFO:tensorflow:global_step/sec: 14.8146\n",
      "INFO:tensorflow:loss = 0.31108212, step = 4200 (6.750 sec)\n",
      "INFO:tensorflow:global_step/sec: 14.883\n",
      "INFO:tensorflow:loss = 0.37743366, step = 4300 (6.719 sec)\n",
      "INFO:tensorflow:global_step/sec: 14.8567\n",
      "INFO:tensorflow:loss = 0.6256261, step = 4400 (6.731 sec)\n",
      "INFO:tensorflow:global_step/sec: 14.8439\n",
      "INFO:tensorflow:loss = 0.3576116, step = 4500 (6.737 sec)\n",
      "INFO:tensorflow:global_step/sec: 14.8418\n",
      "INFO:tensorflow:loss = 0.2018595, step = 4600 (6.738 sec)\n",
      "INFO:tensorflow:global_step/sec: 14.8433\n",
      "INFO:tensorflow:loss = 0.4228294, step = 4700 (6.737 sec)\n",
      "INFO:tensorflow:global_step/sec: 14.7907\n",
      "INFO:tensorflow:loss = 0.34810358, step = 4800 (6.760 sec)\n",
      "INFO:tensorflow:global_step/sec: 14.8074\n",
      "INFO:tensorflow:loss = 0.4095813, step = 4900 (6.754 sec)\n",
      "INFO:tensorflow:global_step/sec: 14.83\n",
      "INFO:tensorflow:loss = 0.12638663, step = 5000 (6.743 sec)\n",
      "INFO:tensorflow:global_step/sec: 14.7766\n",
      "INFO:tensorflow:loss = 0.273152, step = 5100 (6.766 sec)\n",
      "INFO:tensorflow:global_step/sec: 14.8006\n",
      "INFO:tensorflow:loss = 0.6086992, step = 5200 (6.758 sec)\n",
      "INFO:tensorflow:global_step/sec: 14.8247\n",
      "INFO:tensorflow:loss = 0.18929584, step = 5300 (6.746 sec)\n",
      "INFO:tensorflow:global_step/sec: 14.8126\n",
      "INFO:tensorflow:loss = 0.3910616, step = 5400 (6.750 sec)\n",
      "INFO:tensorflow:global_step/sec: 14.8078\n",
      "INFO:tensorflow:loss = 0.16299857, step = 5500 (6.754 sec)\n",
      "INFO:tensorflow:global_step/sec: 14.8189\n",
      "INFO:tensorflow:loss = 0.40006688, step = 5600 (6.748 sec)\n",
      "INFO:tensorflow:global_step/sec: 14.8143\n",
      "INFO:tensorflow:loss = 0.14977872, step = 5700 (6.750 sec)\n",
      "INFO:tensorflow:global_step/sec: 14.8461\n",
      "INFO:tensorflow:loss = 0.42834878, step = 5800 (6.736 sec)\n",
      "INFO:tensorflow:global_step/sec: 14.8159\n",
      "INFO:tensorflow:loss = 0.43288034, step = 5900 (6.750 sec)\n",
      "INFO:tensorflow:global_step/sec: 14.7991\n",
      "INFO:tensorflow:loss = 0.4610304, step = 6000 (6.757 sec)\n",
      "INFO:tensorflow:global_step/sec: 14.8268\n",
      "INFO:tensorflow:loss = 0.45304596, step = 6100 (6.744 sec)\n",
      "INFO:tensorflow:global_step/sec: 14.8159\n",
      "INFO:tensorflow:loss = 0.18671605, step = 6200 (6.751 sec)\n",
      "INFO:tensorflow:global_step/sec: 14.7994\n",
      "INFO:tensorflow:loss = 0.34961593, step = 6300 (6.757 sec)\n",
      "INFO:tensorflow:global_step/sec: 14.8031\n",
      "INFO:tensorflow:loss = 0.18702157, step = 6400 (6.755 sec)\n",
      "INFO:tensorflow:global_step/sec: 14.7567\n",
      "INFO:tensorflow:loss = 0.43933913, step = 6500 (6.777 sec)\n",
      "INFO:tensorflow:global_step/sec: 14.1032\n",
      "INFO:tensorflow:loss = 0.42402014, step = 6600 (7.090 sec)\n",
      "INFO:tensorflow:global_step/sec: 14.8237\n",
      "INFO:tensorflow:loss = 0.17424522, step = 6700 (6.746 sec)\n",
      "INFO:tensorflow:global_step/sec: 14.7822\n",
      "INFO:tensorflow:loss = 0.3798183, step = 6800 (6.765 sec)\n",
      "INFO:tensorflow:global_step/sec: 14.5958\n",
      "INFO:tensorflow:loss = 0.28595853, step = 6900 (6.851 sec)\n",
      "INFO:tensorflow:global_step/sec: 14.8317\n",
      "INFO:tensorflow:loss = 0.40599936, step = 7000 (6.741 sec)\n",
      "INFO:tensorflow:global_step/sec: 14.8138\n",
      "INFO:tensorflow:loss = 0.7550646, step = 7100 (6.758 sec)\n",
      "INFO:tensorflow:global_step/sec: 14.7886\n",
      "INFO:tensorflow:loss = 0.41696447, step = 7200 (6.755 sec)\n",
      "INFO:tensorflow:global_step/sec: 14.7631\n",
      "INFO:tensorflow:loss = 0.24845444, step = 7300 (6.774 sec)\n",
      "INFO:tensorflow:global_step/sec: 14.7923\n",
      "INFO:tensorflow:loss = 0.2747535, step = 7400 (6.759 sec)\n",
      "INFO:tensorflow:global_step/sec: 14.8096\n",
      "INFO:tensorflow:loss = 0.3045399, step = 7500 (6.753 sec)\n",
      "INFO:tensorflow:global_step/sec: 14.7952\n",
      "INFO:tensorflow:loss = 0.42595536, step = 7600 (6.759 sec)\n",
      "INFO:tensorflow:global_step/sec: 14.7781\n",
      "INFO:tensorflow:loss = 0.33659095, step = 7700 (6.766 sec)\n"
     ]
    },
    {
     "name": "stdout",
     "output_type": "stream",
     "text": [
      "INFO:tensorflow:global_step/sec: 14.8137\n",
      "INFO:tensorflow:loss = 0.25539652, step = 7800 (6.750 sec)\n",
      "INFO:tensorflow:global_step/sec: 14.7861\n",
      "INFO:tensorflow:loss = 0.44581944, step = 7900 (6.764 sec)\n",
      "INFO:tensorflow:global_step/sec: 14.82\n",
      "INFO:tensorflow:loss = 0.42771804, step = 8000 (6.748 sec)\n",
      "INFO:tensorflow:global_step/sec: 14.7921\n",
      "INFO:tensorflow:loss = 0.16223654, step = 8100 (6.759 sec)\n",
      "INFO:tensorflow:global_step/sec: 14.783\n",
      "INFO:tensorflow:loss = 0.50869465, step = 8200 (6.766 sec)\n",
      "INFO:tensorflow:global_step/sec: 14.7951\n",
      "INFO:tensorflow:loss = 0.46364266, step = 8300 (6.758 sec)\n",
      "INFO:tensorflow:global_step/sec: 14.7234\n",
      "INFO:tensorflow:loss = 0.67906415, step = 8400 (6.793 sec)\n",
      "INFO:tensorflow:Calling checkpoint listeners before saving checkpoint 8438...\n",
      "INFO:tensorflow:Saving checkpoints for 8438 into data_out/checkpoint/cnn_model\\model.ckpt.\n",
      "INFO:tensorflow:Calling checkpoint listeners after saving checkpoint 8438...\n",
      "INFO:tensorflow:Loss for final step: 0.36863905.\n"
     ]
    },
    {
     "ename": "NameError",
     "evalue": "name 'datatime' is not defined",
     "output_type": "error",
     "traceback": [
      "\u001b[1;31m---------------------------------------------------------------------------\u001b[0m",
      "\u001b[1;31mNameError\u001b[0m                                 Traceback (most recent call last)",
      "\u001b[1;32m<ipython-input-30-43e60667df16>\u001b[0m in \u001b[0;36m<module>\u001b[1;34m\u001b[0m\n\u001b[0;32m      5\u001b[0m \u001b[0mest\u001b[0m\u001b[1;33m.\u001b[0m\u001b[0mtrain\u001b[0m\u001b[1;33m(\u001b[0m\u001b[0mtrain_input_fn\u001b[0m\u001b[1;33m)\u001b[0m\u001b[1;33m\u001b[0m\u001b[1;33m\u001b[0m\u001b[0m\n\u001b[0;32m      6\u001b[0m \u001b[1;33m\u001b[0m\u001b[0m\n\u001b[1;32m----> 7\u001b[1;33m \u001b[0mtime_end\u001b[0m\u001b[1;33m=\u001b[0m\u001b[0mdatatime\u001b[0m\u001b[1;33m.\u001b[0m\u001b[0mutcnow\u001b[0m\u001b[1;33m(\u001b[0m\u001b[1;33m)\u001b[0m\u001b[1;33m\u001b[0m\u001b[1;33m\u001b[0m\u001b[0m\n\u001b[0m\u001b[0;32m      8\u001b[0m \u001b[0mprint\u001b[0m\u001b[1;33m(\u001b[0m\u001b[1;34m\".....................................\"\u001b[0m\u001b[1;33m)\u001b[0m\u001b[1;33m\u001b[0m\u001b[1;33m\u001b[0m\u001b[0m\n\u001b[0;32m      9\u001b[0m \u001b[0mprint\u001b[0m\u001b[1;33m(\u001b[0m\u001b[1;34m\"Experiment finished at {}\"\u001b[0m\u001b[1;33m.\u001b[0m\u001b[0mformat\u001b[0m\u001b[1;33m(\u001b[0m\u001b[0mtime_end\u001b[0m\u001b[1;33m.\u001b[0m\u001b[0mstrftime\u001b[0m\u001b[1;33m(\u001b[0m\u001b[1;34m\"%H:%M:%S\"\u001b[0m\u001b[1;33m)\u001b[0m\u001b[1;33m)\u001b[0m\u001b[1;33m)\u001b[0m\u001b[1;33m\u001b[0m\u001b[1;33m\u001b[0m\u001b[0m\n",
      "\u001b[1;31mNameError\u001b[0m: name 'datatime' is not defined"
     ]
    }
   ],
   "source": [
    "time_start=datetime.utcnow()\n",
    "print(\"Experiment started at {}\".format(time_start.strftime(\"%H:%M:%S\")))\n",
    "print(\".....................................\")\n",
    "\n",
    "est.train(train_input_fn)\n",
    "\n"
   ]
  },
  {
   "cell_type": "code",
   "execution_count": 31,
   "metadata": {},
   "outputs": [
    {
     "name": "stdout",
     "output_type": "stream",
     "text": [
      ".....................................\n",
      "Experiment finished at 15:39:18\n",
      "\n",
      "Experiment elapsed time: 666.616026 seconds\n"
     ]
    }
   ],
   "source": [
    "time_end=datetime.utcnow()\n",
    "print(\".....................................\")\n",
    "print(\"Experiment finished at {}\".format(time_end.strftime(\"%H:%M:%S\")))\n",
    "print(\"\")\n",
    "time_elapsed=time_end-time_start\n",
    "print(\"Experiment elapsed time: {} seconds\".format(time_elapsed.total_seconds()))"
   ]
  },
  {
   "cell_type": "code",
   "execution_count": 32,
   "metadata": {},
   "outputs": [
    {
     "name": "stdout",
     "output_type": "stream",
     "text": [
      "INFO:tensorflow:Calling model_fn.\n",
      "INFO:tensorflow:Done calling model_fn.\n",
      "INFO:tensorflow:Starting evaluation at 2021-01-21T00:42:07Z\n",
      "INFO:tensorflow:Graph was finalized.\n",
      "INFO:tensorflow:Restoring parameters from data_out/checkpoint/cnn_model\\model.ckpt-8438\n",
      "INFO:tensorflow:Running local_init_op.\n",
      "INFO:tensorflow:Done running local_init_op.\n",
      "INFO:tensorflow:Inference Time : 0.60039s\n",
      "INFO:tensorflow:Finished evaluation at 2021-01-21-00:42:08\n",
      "INFO:tensorflow:Saving dict for global step 8438: acc = 0.8265333, global_step = 8438, loss = 0.38181958\n",
      "INFO:tensorflow:Saving 'checkpoint_path' summary for global step 8438: data_out/checkpoint/cnn_model\\model.ckpt-8438\n"
     ]
    }
   ],
   "source": [
    "valid=est.evaluate(eval_input_fn)"
   ]
  },
  {
   "cell_type": "code",
   "execution_count": 33,
   "metadata": {},
   "outputs": [],
   "source": [
    "INPUT_TEST_DATA = 'nsmc_test_input.npy'\n",
    "LABEL_TEST_DATA = 'nsmc_test_label.npy'\n",
    "\n",
    "test_input_data = np.load(open(DATA_IN_PATH + INPUT_TEST_DATA, 'rb'))\n",
    "test_label_data = np.load(open(DATA_IN_PATH + LABEL_TEST_DATA, 'rb'))"
   ]
  },
  {
   "cell_type": "code",
   "execution_count": 34,
   "metadata": {},
   "outputs": [],
   "source": [
    "def test_input_fn():\n",
    "    dataset = tf.data.Dataset.from_tensor_slices((test_input_data, test_label_data))\n",
    "    dataset = dataset.batch(16)\n",
    "    dataset = dataset.map(mapping_fn)\n",
    "    iterator = dataset.make_one_shot_iterator()\n",
    "    \n",
    "    return iterator.get_next()"
   ]
  },
  {
   "cell_type": "code",
   "execution_count": 35,
   "metadata": {},
   "outputs": [
    {
     "name": "stdout",
     "output_type": "stream",
     "text": [
      "INFO:tensorflow:Calling model_fn.\n",
      "INFO:tensorflow:Done calling model_fn.\n",
      "INFO:tensorflow:Starting evaluation at 2021-01-21T00:47:12Z\n",
      "INFO:tensorflow:Graph was finalized.\n",
      "INFO:tensorflow:Restoring parameters from data_out/checkpoint/cnn_model\\model.ckpt-8438\n",
      "INFO:tensorflow:Running local_init_op.\n",
      "INFO:tensorflow:Done running local_init_op.\n",
      "INFO:tensorflow:Inference Time : 1.38098s\n",
      "INFO:tensorflow:Finished evaluation at 2021-01-21-00:47:13\n",
      "INFO:tensorflow:Saving dict for global step 8438: acc = 0.82738, global_step = 8438, loss = 0.38326234\n",
      "INFO:tensorflow:Saving 'checkpoint_path' summary for global step 8438: data_out/checkpoint/cnn_model\\model.ckpt-8438\n"
     ]
    }
   ],
   "source": [
    "predict=est.evaluate(test_input_fn)"
   ]
  },
  {
   "cell_type": "code",
   "execution_count": null,
   "metadata": {},
   "outputs": [],
   "source": []
  }
 ],
 "metadata": {
  "kernelspec": {
   "display_name": "Python 3",
   "language": "python",
   "name": "python3"
  },
  "language_info": {
   "codemirror_mode": {
    "name": "ipython",
    "version": 3
   },
   "file_extension": ".py",
   "mimetype": "text/x-python",
   "name": "python",
   "nbconvert_exporter": "python",
   "pygments_lexer": "ipython3",
   "version": "3.7.7"
  }
 },
 "nbformat": 4,
 "nbformat_minor": 4
}
